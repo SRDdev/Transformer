{
 "cells": [
  {
   "cell_type": "markdown",
   "id": "9469784a",
   "metadata": {},
   "source": [
    "# Sentence Tokenization\n",
    "\n",
    "Sentence Tokenization is the first steps we take while working with a transformer neural network. May it be a pre-trained tokenizer like the once's from Hugging Face for a custom defined tokenizer for a new language , tokenization is one of the core concepts in NLP"
   ]
  },
  {
   "cell_type": "code",
   "execution_count": 1,
   "id": "de758807",
   "metadata": {},
   "outputs": [],
   "source": [
    "#----------------Imports----------------#\n",
    "import torch\n",
    "import numpy as np"
   ]
  },
  {
   "cell_type": "markdown",
   "id": "566a2308",
   "metadata": {},
   "source": [
    "### Data\n",
    "\n",
    "The data which we will be using for this tutorial is the Enlgish - Hinglish Dataset."
   ]
  },
  {
   "cell_type": "code",
   "execution_count": 2,
   "id": "3cbc17a6",
   "metadata": {},
   "outputs": [],
   "source": [
    "#----------------Create Language files--------------# \n",
    "import csv\n",
    "\n",
    "def extract_columns_to_files(csv_file_path):\n",
    "    with open(csv_file_path, newline='',encoding='utf-8') as csvfile:\n",
    "        reader = csv.reader(csvfile, delimiter=',')\n",
    "        headers = next(reader) # extract the headers\n",
    "        \n",
    "        # create a new text file for each column\n",
    "        for i in range(len(headers)):\n",
    "            filename = headers[i].replace(' ', '_') + '.txt'\n",
    "            with open(filename, 'w',encoding=\"utf-8\") as outfile:\n",
    "                for row in reader:\n",
    "                    outfile.write(row[i])\n",
    "                # reset reader to the start of the file for the next column\n",
    "                csvfile.seek(0)\n",
    "                next(reader)\n",
    "\n",
    "csv_file_path = '../assets/data/NeuroHack_train.csv'\n",
    "extract_columns_to_files(csv_file_path)"
   ]
  },
  {
   "cell_type": "markdown",
   "id": "826b9ef1",
   "metadata": {},
   "source": [
    "For Language translation tasks the vocabularies are usually different , but in our case the translation is for English to Hinglish which is in the same latin script."
   ]
  },
  {
   "cell_type": "code",
   "execution_count": 3,
   "id": "e15cea08",
   "metadata": {},
   "outputs": [],
   "source": [
    "#--------------Create Vocabularies----------------#\n",
    "English_file = '../assets/data/English.txt'\n",
    "Hinglish_file = '../assets/data/Hinglish.txt'\n",
    "\n",
    "START_TOKEN = '<START>'\n",
    "PADDING_TOKEN = '<PADDING>'\n",
    "END_TOKEN = '<END>'\n",
    "\n",
    "hinglish_vocabulary = [START_TOKEN, ' ', '!', '\"', '#', '$', '%', '&', \"'\", '(', ')', '*', '+', ',', '-', '.', '/',\n",
    "                       '0', '1', '2', '3', '4', '5', '6', '7', '8', '9', ':', '<', '=', '>', '?', '@',\n",
    "                       'A', 'B', 'C', 'D', 'E', 'F', 'G', 'H', 'I', 'J', 'K', 'L', 'M', 'N', 'O', 'P', 'Q', 'R', 'S',\n",
    "                       'T', 'U', 'V', 'W', 'X', 'Y', 'Z', '[', '‘', ']', '^', '_', '`', '-', 'a', 'b', 'c', 'd', 'e',\n",
    "                       'f', 'g', 'h', 'i', 'j', 'k', 'l', 'm', 'n', 'o', 'p', 'q', 'r', 's', 't', 'u', 'v', 'w', 'x',\n",
    "                       'y', 'z', '{', '|', '}', '~', PADDING_TOKEN, END_TOKEN, '–']\n",
    "\n",
    "                \n",
    "english_vocabulary = [START_TOKEN, ' ', '!', '\"', '#', '$', '%', '&', \"'\", '(', ')', '*', '+', ',', '-', '.', '/',\n",
    "                       '0', '1', '2', '3', '4', '5', '6', '7', '8', '9', ':', '<', '=', '>', '?', '@',\n",
    "                       'A', 'B', 'C', 'D', 'E', 'F', 'G', 'H', 'I', 'J', 'K', 'L', 'M', 'N', 'O', 'P', 'Q', 'R', 'S',\n",
    "                       'T', 'U', 'V', 'W', 'X', 'Y', 'Z', '[', '‘', ']', '^', '_', '`', '-', 'a', 'b', 'c', 'd', 'e',\n",
    "                       'f', 'g', 'h', 'i', 'j', 'k', 'l', 'm', 'n', 'o', 'p', 'q', 'r', 's', 't', 'u', 'v', 'w', 'x',\n",
    "                       'y', 'z', '{', '|', '}', '~', PADDING_TOKEN, END_TOKEN, '–']\n"
   ]
  },
  {
   "cell_type": "code",
   "execution_count": 4,
   "id": "5c23326f",
   "metadata": {},
   "outputs": [
    {
     "data": {
      "text/plain": [
       "['M', 'e', 'r', 'a']"
      ]
     },
     "execution_count": 4,
     "metadata": {},
     "output_type": "execute_result"
    }
   ],
   "source": [
    "text = 'Mera'\n",
    "list(text)"
   ]
  },
  {
   "cell_type": "markdown",
   "id": "b2f8013b",
   "metadata": {},
   "source": [
    "Now lets create a dictionary out of these vocabularies so that we can map all the letters"
   ]
  },
  {
   "cell_type": "code",
   "execution_count": 5,
   "id": "a83348db",
   "metadata": {},
   "outputs": [],
   "source": [
    "index_to_hinglish = {k:v for k,v in enumerate(hinglish_vocabulary)}\n",
    "hinglish_to_index = {v:k for k,v in enumerate(hinglish_vocabulary)}\n",
    "index_to_english = {k:v for k,v in enumerate(english_vocabulary)}\n",
    "english_to_index = {v:k for k,v in enumerate(english_vocabulary)}"
   ]
  },
  {
   "cell_type": "code",
   "execution_count": 6,
   "id": "d5ec8785",
   "metadata": {},
   "outputs": [],
   "source": [
    "with open(English_file, 'r',encoding='utf-8') as file:\n",
    "    english_sentences = file.readlines()\n",
    "with open(Hinglish_file, 'r',encoding='utf-8') as file:\n",
    "    hinglish_sentences = file.readlines()\n",
    "\n",
    "# Limit Number of sentences\n",
    "TOTAL_SENTENCES = 100000\n",
    "english_sentences = english_sentences[:TOTAL_SENTENCES]\n",
    "hinglish_sentences = hinglish_sentences[:TOTAL_SENTENCES]\n",
    "english_sentences = [sentence.rstrip('\\n') for sentence in english_sentences]\n",
    "hinglish_sentences = [sentence.rstrip('\\n') for sentence in hinglish_sentences]"
   ]
  },
  {
   "cell_type": "code",
   "execution_count": 7,
   "id": "af95bbcc",
   "metadata": {},
   "outputs": [
    {
     "data": {
      "text/plain": [
       "['Program module is a file that contains instructions which are either in the form of source code or machine language.',\n",
       " \"And to Thamud We sent their brother Sali 'h. He said:' My people! Serve Allah; you have no god other than Him. He brought you into being out of the earth, and has made you dwell in it. So ask Him to forgive you, and do turn towards Him in repentance. Indeed My Lord is near, responsive to prayers.\",\n",
       " 'and, when reminded, do not remember',\n",
       " 'you won the TED Prize 2011.',\n",
       " 'He gone to Kerodemal College of Delhi University, where he taken Science Graduate Degree.',\n",
       " 'Then We awakened them to know which of the two groups could better calculate the length of their stay.',\n",
       " 'Really move all photos and videos to the trash?',\n",
       " 'Excavations made in Malabar have proved the existence of chambers in which massive earthenware urns had been kept.',\n",
       " 'And leave them desolate waste.',\n",
       " \"Please let me see when you 're online. Thanks!\"]"
      ]
     },
     "execution_count": 7,
     "metadata": {},
     "output_type": "execute_result"
    }
   ],
   "source": [
    "english_sentences[:10]"
   ]
  },
  {
   "cell_type": "markdown",
   "id": "36460447",
   "metadata": {},
   "source": [
    "We will limit the input to 350 words as 97%tile sentences have less than 350 words"
   ]
  },
  {
   "cell_type": "code",
   "execution_count": 8,
   "id": "e1453c06",
   "metadata": {},
   "outputs": [
    {
     "data": {
      "text/plain": [
       "(852, 889)"
      ]
     },
     "execution_count": 8,
     "metadata": {},
     "output_type": "execute_result"
    }
   ],
   "source": [
    "max(len(x) for x in hinglish_sentences), max(len(x) for x in english_sentences)"
   ]
  },
  {
   "cell_type": "code",
   "execution_count": 9,
   "id": "39b3ecd2",
   "metadata": {},
   "outputs": [
    {
     "name": "stdout",
     "output_type": "stream",
     "text": [
      "97th percentile length Hinglish: 314.1999999999989\n",
      "97th percentile length English: 284.0499999999997\n"
     ]
    }
   ],
   "source": [
    "PERCENTILE = 97\n",
    "print( f\"{PERCENTILE}th percentile length Hinglish: {np.percentile([len(x) for x in hinglish_sentences], PERCENTILE)}\" )\n",
    "print( f\"{PERCENTILE}th percentile length English: {np.percentile([len(x) for x in english_sentences], PERCENTILE)}\" )"
   ]
  },
  {
   "cell_type": "code",
   "execution_count": 10,
   "id": "b138ece7",
   "metadata": {},
   "outputs": [
    {
     "name": "stdout",
     "output_type": "stream",
     "text": [
      "Number of sentences: 2566\n",
      "Number of valid sentences: 2471\n"
     ]
    }
   ],
   "source": [
    "max_sequence_length = 350\n",
    "\n",
    "def is_valid_tokens(sentence, vocab):\n",
    "    for token in list(set(sentence)):\n",
    "        if token not in vocab:\n",
    "            return False\n",
    "    return True\n",
    "\n",
    "def is_valid_length(sentence, max_sequence_length):\n",
    "    return len(list(sentence)) < (max_sequence_length - 1) # need to re-add the end token so leaving 1 space\n",
    "\n",
    "valid_sentence_indicies = []\n",
    "for index in range(len(hinglish_sentences)):\n",
    "    hinglish_sentence, english_sentence = hinglish_sentences[index], english_sentences[index]\n",
    "    if is_valid_length(hinglish_sentence, max_sequence_length) \\\n",
    "      and is_valid_length(english_sentence, max_sequence_length) \\\n",
    "      and is_valid_tokens(hinglish_sentence, hinglish_vocabulary):\n",
    "        valid_sentence_indicies.append(index)\n",
    "\n",
    "print(f\"Number of sentences: {len(hinglish_sentences)}\")\n",
    "print(f\"Number of valid sentences: {len(valid_sentence_indicies)}\")"
   ]
  },
  {
   "cell_type": "code",
   "execution_count": 11,
   "id": "df5b21f4",
   "metadata": {},
   "outputs": [],
   "source": [
    "hinglish_sentences = [hinglish_sentences[i] for i in valid_sentence_indicies]\n",
    "english_sentences = [english_sentences[i] for i in valid_sentence_indicies]"
   ]
  },
  {
   "cell_type": "code",
   "execution_count": 12,
   "id": "27f67fee",
   "metadata": {},
   "outputs": [
    {
     "data": {
      "text/plain": [
       "['module , ek program hoti hai , jismen ya to source code ya machine language ke form men instructions nihit hote hain.',\n",
       " 'aur jab unhen yad dilaya jata hai , to ve yad nahin karte ,',\n",
       " 'unhonne bad science karne ke lie ye delhi university ke kirorimal college chale ge jahan inhonne vijnjan graduate ki degree prapt ki.']"
      ]
     },
     "execution_count": 12,
     "metadata": {},
     "output_type": "execute_result"
    }
   ],
   "source": [
    "hinglish_sentences[:3]"
   ]
  },
  {
   "cell_type": "markdown",
   "id": "9261d001",
   "metadata": {},
   "source": [
    "### Dataset\n",
    "\n",
    "Now we will build a dataset (torch or HF). This is needed to carryout for smooth batching process & consistent input format to the model."
   ]
  },
  {
   "cell_type": "code",
   "execution_count": 13,
   "id": "812ab5bd",
   "metadata": {},
   "outputs": [],
   "source": [
    "from torch.utils.data import Dataset, DataLoader\n",
    "\n",
    "class TextDataset(Dataset):\n",
    "\n",
    "    def __init__(self, english_sentences, hinglish_sentences):\n",
    "        self.english_sentences = english_sentences\n",
    "        self.hinglish_sentences = hinglish_sentences\n",
    "\n",
    "    def __len__(self):\n",
    "        return len(self.english_sentences)\n",
    "\n",
    "    def __getitem__(self, idx):\n",
    "        return self.english_sentences[idx], self.hinglish_sentences[idx]"
   ]
  },
  {
   "cell_type": "code",
   "execution_count": 14,
   "id": "4be659bc",
   "metadata": {},
   "outputs": [],
   "source": [
    "dataset = TextDataset(english_sentences, hinglish_sentences)"
   ]
  },
  {
   "cell_type": "code",
   "execution_count": 15,
   "id": "d25995d0",
   "metadata": {},
   "outputs": [
    {
     "data": {
      "text/plain": [
       "2471"
      ]
     },
     "execution_count": 15,
     "metadata": {},
     "output_type": "execute_result"
    }
   ],
   "source": [
    "len(dataset)"
   ]
  },
  {
   "cell_type": "code",
   "execution_count": 16,
   "id": "72fd7332",
   "metadata": {},
   "outputs": [
    {
     "data": {
      "text/plain": [
       "('and, when reminded, do not remember',\n",
       " 'aur jab unhen yad dilaya jata hai , to ve yad nahin karte ,')"
      ]
     },
     "execution_count": 16,
     "metadata": {},
     "output_type": "execute_result"
    }
   ],
   "source": [
    "dataset[1]"
   ]
  },
  {
   "cell_type": "markdown",
   "id": "66cf8002",
   "metadata": {},
   "source": [
    "### Batch\n",
    "\n",
    "If we use the dataset now as it is, we will perform an Stochastic Gradient Descent which in our case will take a very very long time to compute. Hence we will use a Batched Gradient Descent.\n",
    "\n",
    "It is the number of input sentences we will be sending to the model before its loss is final & it can backpropogates and update the gradients. Generally we use anything from 16-64."
   ]
  },
  {
   "cell_type": "code",
   "execution_count": 17,
   "id": "fbf3da87",
   "metadata": {},
   "outputs": [],
   "source": [
    "batch_size = 16 \n",
    "train_loader = DataLoader(dataset, batch_size)\n",
    "iterator = iter(train_loader)"
   ]
  },
  {
   "cell_type": "code",
   "execution_count": 18,
   "id": "861ff16c",
   "metadata": {},
   "outputs": [
    {
     "name": "stdout",
     "output_type": "stream",
     "text": [
      "[('Program module is a file that contains instructions which are either in the form of source code or machine language.', 'and, when reminded, do not remember', 'He gone to Kerodemal College of Delhi University, where he taken Science Graduate Degree.', 'Then We awakened them to know which of the two groups could better calculate the length of their stay.', 'Really move all photos and videos to the trash?', 'Excavations made in Malabar have proved the existence of chambers in which massive earthenware urns had been kept.', 'And leave them desolate waste.', 'A guidance and a mercy for the well - doers:', 'In France, the news of one deed spreads like a flash and brings some pride to a disillusioned people.', 'refuse him / her the permission to see your presence', 'Disable the new tab page menu for accessing tabs on other devices.', 'Far from securing the ends of justice their pendency or disposal on merits will indubitably defeat the ends of justice.', 'It is He who prevails over His creatures, and He is all - wise and aware.', 'It belongs to the seventh century if not earlier , and was perhaps intended originally for the Buddhist creed , but was adopted later for a Vishnu temple , the principal deity being a recumbent Vishnu , or Anantasayin .', 'We created you, then why do you believe not?', 'You be there at 10 A. M. sharp.'), ('module , ek program hoti hai , jismen ya to source code ya machine language ke form men instructions nihit hote hain.', 'aur jab unhen yad dilaya jata hai , to ve yad nahin karte ,', 'unhonne bad science karne ke lie ye delhi university ke kirorimal college chale ge jahan inhonne vijnjan graduate ki degree prapt ki.', 'phir hamne unhen bheja, taki maloom karen ki calculate the length se kisne yad rakha hai ki kitni avdhi tak ve rahe', 'kya aap vakee raddi men sare photos and videos khiskana chahte hain', 'malabar men khudaee ke kamron men rakhe hue bare-bare bartan mile hain jinme shav rakhe jate the.', 'aur dharti ko ek samatal desolate maidan banakar chhorega', 'jo azasartapa un logon ke lie guidance v mercy hai', 'france men is ek deed ki news bijli ki tarah phail jati hai aur people bhram se mut hokar pride mahsoos karte hain', 'aapki refuse ko dekhne ke lie unhen permission mat den', 'any upakarnon par tab page menu ke lie tab page prishth aksham karen', 'ends ke uddeshyon ki disposal se koson pendency , unka anirnay ya merits ke aadhar par niptan sunishchit roop se ends ke uddeshyon ko viphal kar dega', 'use apne creatures par poorn adhikar prapt hai. aur vah wise, aware rakhnevala hai', 'yadi yah aur pahle ka nahin , to bhi seventh century ka bana hai aur earlier mool roop se buddhist creed ke lie tha , kintu bad men vishnu temple men roopantrit kar diya gaya jismen principal deity recumbent hue vishnu ya anantasayin hain', 'hamne tumhen paida kiya phir tum sach kyon nahin mante', 'aap prat 10 baje vahan ho tej')]\n",
      "[('Some months ago there were normal democratic elections there and as a result a popular radical party a joint popular front came into power .', 'Continue applying patches with resolved conflicts', 'An organism or individual having a diploid set of chromosomes derived from each parent.', 'And We sent down out of heaven water in measure and lodged it in the earth; and We are able to take it away.', 'The whole realm of satire, humour, or fantasy is open to the puppet producer.', 'But the physical love is only a bridge to cross over to the other bank葉he Annihilation of self.', 'His mother was darning a torn sock over a wooden mushroom.', 'Every soul shall have a taste of death: And only on the Day of Judgment shall you be paid your full recompense. Only he who is saved far from the Fire and admitted to the Garden will have attained the object (of Life): For the life of this world is but goods and chattels of deception.', 'Fluctuations in the production of raw jute, low yield, cost inflation, labour unrest, uncertain demand and obsolete machinery are some of its major problems.', 'a lot of young people with a demographic dividend', 'If you believe you can, you probably can.', 'into a school. Everybody is wearing jeans, everybody is the same.', 'Later a public meeting was called which was addressed by Hakim Ajmal Khan and Pandit Malaviya.', 'The highest amount of money that is required to be paid.', 'These were the ushnisa or turban, a pair of flywhisks, umbrella, sword, sandals, and the royal standard.', 'And remember Our servants Ibrahim and Ishaq and Yaqoub, men of power and insight.'), ('kuchh mahine hue vahan normal democratic elections hue aur phalasvroop vahan ek popular radical party lokapriy morcha-satta men aayi', 'continue rakhen lagoo kar raha hai ke sath resolved conflicts', 'koee organism or individual jis men mata aur pita in donon se hi prapt gunsutr ka ek dohra gut individual', 'aur hamne heaven se ek measure e sath water barsaya phir usko zamin men  hasab maslehat  thahrae rakha aur able to yainan uske aeb kar dene par bhi aboo rakhte hai', 'puppet nirdeshkon ke samaksh satire , humour evn whole shakti ka snsar open para hai.', 'par sharirik prem doosre tat-aatm-hanan-par bridge to cross physical love', 'uski man lakari ke bane kukurmutte par koee phata darning a torn thi.', 'pratyek jiv taste of death chakhnevala hai, aur tumhen to iyamat ke din poora-poora badla de diya jaega. ata jise aag jahannam se hatakar jannat men dail kar diya gaya, vah saphal raha. raha sansarik jivan, to vah maya-samagri ke siva kuchh bhi nahin', 'fluctuations jute ke production men utar-chaav , low yield , cost sphiti , labour unrest , uncertain demand , obsolete machinery , kuchh iski major problems hain', 'ek demographic dividend ke sath kee young lot', 'yadi aap yah mante hain ki aap kar sakte hain, to snbhavta aap kar sakte hain.', 'ek school men, har koee wearing jeans raha hai, har koee ek saman hai', 'pichhe ek bari sabhi huee jismen hakim sahab aur pndit meeting was called hue.', 'highest se highest amount jo mooly rup me di jani amount', 'ye the  turban , chnvron ki pair , umbrella , sword , sandals tatha royal that-bat se rahna.', 'aur ae rasool hamare bandon men ibrahim aur isha aur yakoob ko yad karo jo kuvat aur basirat vale the')]\n",
      "[('Place the ten of spades next to the nine of spades.', 'Backup Evolution data and settings to an archive file', 'They distribute agricultural machinery; undertake wholesale, retail and foreign trade.', 'literature fo various dialects of hindi are still popular today, and even today, many poets and writers use regional languages for their work', 'Rotate the image 90 degrees to the right', \"Moreover , even if we resolved the dispute by circumscribing its scope to some particular field of human endeavour and did agree on what is ' excellence ' , there is no knowing that it would be passed on to children .\", '” Tonight, it will be a year … ”', 'such as projections and judgements of others... yes.', 'American Lung Association of New England on quality of air', 'He cannot bring down its greater spiritual nature into this lower triplicity; for here the mental being is the highest expression of the Self.', 'by 5, so 1 times 5 is 5.', 'Candytuft is mostly cultivated for ornamental purposes.', 'Move% s onto% s.', \"Let's see, let's do minus 5 / 7 divided by 10 / 3.\", \"Is it possible for everyone to know one 's true nature?\", \"Don 't get pulled into that rush... into that storm.\"), ('spades ki place the ten place spades ke nahla ko rakhen', 'evolution data v settings ka backup len v phir bhndarit karen', 'yah agricultural machinery , wholesale tatha retail bajar evn foreign trade ko bhi vitrit evn niyntrit karta hai.', 'hindi ki various dialects ka literature today bhi popular hai aur today bhi many poets aur writers apna work apni-apni regional bhashaon men karte hain.', 'image ko 90 degrees par right ghumaen', 'aur kisi particular scope ke sndarbh men human ka arth ya children , is moreover ka nirnay ham logon ne kar bhi liya tab bhi aanevali pii ki sntanon men yah gun dikhaee dega , is moreover ki koee garnti nahin di ja dispute', 'aaj tonight ek year poora ho jaega.', 'han, jaise ki doosro ke bare men mansik kalpnaen aur ray.', 'air ki quality par new england ka american lung association', 'vah uski greater spiritual nature ko niche utarakar is lower trividh satta men nahin triplicity sakta  kyonki yahan to manomay purush hi aatma ki sarvochch expression hai.', 'to 1 times 5 barabar hai 5ke', 'chandi taph ya kainditapht mukhyat ornamental purposes ke lie ugae jate hain', 'move khiskaen  move par', 'dekhe, kare minus 57 divided hai 103 se', 'kya har koee apne true nature ka jan sakta hai', 'us rush men khinche nahin don get hai   us storm me.')]\n",
      "[('Import HandyShopper store names only as item tags.', 'In tha Law there are a number of bylaws under one law.', 'In the Gardens of delight (Paradise).', \"Among the principal 'infant' industries of this period mention must be made of sugar, paper, and matches.\", 'Last week , transporters in Delhi were up in arms against him , and , on April 10 , the first fir alleging a case of cheating and detailing his role in the CNG kit scam , was lodged at a Delhi police station .', 'So, a smaller group, whether it is called a steering committee or something else, is needed which can be more active and can meet more frequently and with less expenses.', \"They felt there wasn 't enough progress\", \"he method of recording of votes by Members on `Ayes' and `Noes' slips is generally resorted to in the eventuality of :\", 'This is an account of (the fate of) the towns which We relate to you; of them are some that stand and (others) mown down.', 'Purchase of machinery and implements / equipment', 'Then it goes back to potential energy again.', 'OPV can be given to children till 5 years of age.', 'Usman Riaz: Yes, that was the first one. And then I -', 'Info to be shown for this item', 'Wind speed = %d kilometers/hour', 'If selected, you will be notified when entering an SSL enabled site'), ('item tags ke roop men hi HandyShopper ke stor nam aayat karen', 'vidhi men ek niyam ke antargat kee up niyam hote number', 'delight bhari gardens men honge', 'chhote chhote shishu udyog is samay ke mukhri-oonshchhsh-y shishu udyogon men chini, kagaj aur diyaslari ki charcha ki ja sakti hai', 'delhi ke last ne ekjut ho 10 april ko unke khilaph cheating ke aarop ke sath cng kit scam men unki role batate he fir darj karvaee', 'isiliye ek jyada smaller group ki jaroorat hai , something use aap kary steering committee kahen ya kuchh aur , jo sal men kee bar mil sake , adhik active ho sake aur less kharch se kam chala sake.', 'unhonne wasn kiya ki vahan paryapt progress nahin thi', 'han ya nhin parchiyon par votes by members ka abhilekhan ka tarika samanyatya nimnlikhit paristhtiyon men apnaya jata haia-', 'fate account  ye chand towns ke halat hain jo ham tum se bayan karte hain unmen se others to  us vakt tak  ayam hain aur others ka tahas nahas ho gaya', 'machinery and implements ki purchase aavdhik rin:', 'to yah vapas potential energy ko phir se chala jata hai.', 'children ko opivi 5 years of age tak diya ja sakta hai', 'usman riyaja one , yah first tha  aur phir main', 'is item ke lie dikhae jane ke lie info', 'wind ki speed   d kilomitarprtighnta', 'yadi selected gaya hai, jab aap esesel enabled site par prvesh karte hain to aapko soochit kiya jaega')]\n",
      "[('Each vertex has a label, and these labels must have the following property.', '(ii) the Minister for Tuensang affairs shall deal with, and have direct access to the Governor on, all matters relating to the Tuensang district but he shall keep the Chief Minister informed about the same;', \"He said, “O my son, do not relate your vision to your brothers, lest they plot and scheme against you. Satan is man 's sworn enemy.\", 'The day the sky will tremble,', 'Joint Forest Management Committees have played a key role in curbing the exploitation of forest resources that had often led to the marginalization and deprivation of tribal people.', 'A skilled or artistic worker or craftsman.', 'I know that the Bodhisattva lovingly regards all living creatures to deliver them from misery!', '&Always Open Files of This Type', \"Greek 'ouranos' for 'heaven'. Named after the planet Uranus.\", 'All right, this is another one that should be cut and pasted.', '\"(xviib)\\tany compensation or other payment referred to in clause (xi) of sub-section (2) of section 56;\";', \"The Agreement on South Asian Free Trade Area (SAFTA) was signed by all the member States of the South Asian Association for Regional Cooperation (SAARC) during the twelfth 'SAARC Summit' held in Islamabad on 4 - 6th January, 2004.\", \"The three saw a shepherd maid churning curd in front of her house and telling the children playing around her, 'Go away, you kids, lest the curd thumi droplet should spill upon you.\", \"Failed to unlock lock file '% s' '% s'\", 'We have tried to correct them.', 'Having nothing worthwhile to do, he organized a society of like - minded persons to divert his mind.'), ('pratyek varteks ek label hai, aur in label nimn gun hona aavashyak hai.', 'ii  tuensang affairs minister tuensang district se snbndhit sabhi matters ki babat affairs karega aur unke snbndh men governor ke pas uski direct access hogi kintu vah unke snbndh men mukhymntri ko jankari deta rahega', 'yaoob ne kaha ae son  dekho bardar  lest apna vision apne brothers se n dohrana  varna  vah log tumhare lie scheme ki tadbir karne lagegen ismen to sha hi nahin ki shaitan man ka sworn huaa enemy hai', 'jis day sky chakkar khane lagega', 'joint forest management samitiyon ne tribal people logon ko pichhara aur abhavagrast banane vale van snsadhnon ke dohan ko samapt karne men prmukh played a key', 'koee skilled or artistic worker ya karigar.', 'mai janta hoon ki bodhisatv sabhi living par apni kripa bhav bikhere hue hain!', 'is type ki open files open', 'svarg ke lie greek men kvaranos planet uranus ke oopar nam rakha gaya', 'sab right hai , yah ek aur ek ki kata aur one jana chahie hai.', 'xviikh clause 56 ki upclause 2 ke khnd xi men nirdisht kori prtikar ya any snday', 'south asian free trade area saphta par kararname par islamabad men 4-6 janavri ko aayojit barahvendakshin eshiyaee kshetriy sahyog sngh sark sammelan ke dauran sark ke sabhi sadasy deshon ne hastakshar kie.', 'un tinon ne ek gvalin ko dekha jo apne ghar ke samne dahi math rahi thi aur apne charon taraph khelte hue bachchon se kah rahi thi, bhag jao, bachcho, nahin to dahi ki boonden thumi tumhare oopar uchhalakar girengi.', 'lock file ko an-lk karne men asafal', 'hamne unhen sudharne ki koshish ki hai.', 'kuchh nothing kam n hane ke karan unhonne apna mind society or lagaane ki drishti se apne jaise vichar vale persons ki ek sosayti bana li.')]\n",
      "[('Through ‘e - FILING’ only Advocate - on Record’ and petitioners - in - person can file cases in the Supreme Court of India', 'We think doodling is something you do when you lose focus,', 'It assists the government in formulating and implementing policies for national development.', 'Anaerobic is a technical word which literally means without oxygen.', \"“ Well . . . so I can do things , ” he had responded . <s> “ And so I can change those things that I don ' t want to happen . ”\", 'In his will Vitthal bhai patel named all his billions of property to Subash babu.', 'He was born in the city of Surat in Gujarat on 24th August, 1833.', 'A structure above the surface.', 'and when the Koran is recited to them they do not bow?', \"We 're going to win because we have dreams.\", 'Leave Me alone with he whom I created', '“ But , above all , I learned that these things are all so simple that they could be written on the surface of an emerald . ”', 'A complaint was also made about the delay in the Industrial Relations Bill.', 'He is the Lord of the heavens and the earth and all that is between them. He is the Beneficent God and no one will be able to address Him.', 'The region was endemic for malaria, Kala - a - zar and leprosy.', 'And We sent down out of heaven water in measure and lodged it in the earth; and We are able to take it away.'), ('petitioners  ee-phailing ke madhyam se supreme record men keval pirit person arthat cases filing karne ke ichchhuk person svyn ya nibndhit advocate hi cases filing kar sakta', 'aesa mana jata hai ki doodling karne vale ka focus bhng ho chuka hai,', 'yah formulating development ke lie policies ke nirman aur karyanvayan men government ki madad karti hai.', 'anksiy ek tantrik word hai jiska shabdik arth hai technical oxygen ke.', 'islie ki main kuchh kar sakoon ,  oont chalak ne kaha ,  aur un change those things sakoon jinhen main ghatit hote hue nahin dekhna chahta !', 'bhai bhaee patel ne apni property men apni billions ki babu subhashbaboo ke nam kar di.', '24 august, 1833 ko uska janm gujrat ke soorat nagar men huaa.', 'prishth ya satah se oopar structure', 'aur jab unhen koran pakar sunaya jata hai to sajde men nahin gir parte', 'ham dreams vale hain kyonki hamare pas ek sapna hai.', 'ae leave mujhe aur us shash ko chhor do jise maine akela paida kiya', 'magar is sabse jyada mainne yah learned ki ye sab simple itni saral hain ki inhen nagine ki satah par bhi likha ja sakta hai .', 'industrial relations bill men delay ki bhi ek complaint mili hai.', 'vah lord aur earth ka aur jo kuchh unke bich hai beneficent god hai , atyant kripashil hai , uske samne bat karna unke bas men nahin hoga', 'yah region malaria, kala aur leprosy rog se prbhavit tha.', 'aur hamne aasman se ek andaje e sath pani barsaya phir usko zamin men hasab maslehat thahrae rakha aur ham to yainan uske aeb kar dene par bhi aboo rakhte hai')]\n",
      "[('The whole of Rashtrapati Bhavan would be with them in their efforts to bring up their children.', '\"\\'And in the End He will return you into the (earth), and raise you forth (again at the Resurrection)?', 'In 1882 , Lord Ripon established local self-government in India with the setting up of district local boards .', 'Open the selected bookmark in a new tab', 'India participated, actively and constructively in the negotiations and sought to place the Treaty in a disarmament framework by proposing its linkage with a time - bound programme for the universal elimination of all nuclear weapons.', 'India participated, actively and constructively in the negotiations and sought to place the Treaty in a disarmament framework by proposing its linkage with a time - bound programme for the universal elimination of all nuclear weapons.', \"A former Mujahideen commander , Haq 's ties with the CIA went back to the Soviet-Afghan war of the 1980s .\", 'In your provisions Allah has preferred some of you above others. But, those who have been preferred do not give their provisions to those whom their right hand possess so that they might be equal therein. What, do they vainly disbelieve the favor of Allah?', \"“It 's nice for swimming there. ”\", 'In tapeworm infestation human are the primary host.', 'He said that their job is multifarious. He advised them to always remember that their conduct and behaviour is a reflection not only of the police force but is actually a projection of the entire administration before the common people.', 'Rural electrification (Ekal Electric House)', 'The Indian National Congress reacted sharply to the appointment of the Simon Commission .', 'Snow leopard hunts blue sheep in the Himalayas.', 'Water resources development and management will have to be planned for a hydrological unit.', 'The Madras High Court was a pioneer in the enrolment of women.'), ('unke children ki paravrish men poora rashtrapati bhavan unke sath whole', 'phir tumko usi men resurrection le end aur  earth men usi se  nikal kar khara karega', '1882 men lord ripon ne district local boards ke gathan ke sath india men local self-government ki sthapna ki', 'chaynit bookmark ko new tab men kholen', 'bharat ne in charchaon men actively and constructively dhng se hisa liya aur duniya se samast parmanu hathiyaron ki samapti ke lie ek samayabaddh karyakram ka prastav karke is sndhi ko nirastrikaran ke dhanche men dhalne ki mang jahir ki.', 'india ne in negotiations men sakriy aur framework elimination se hisa liya aur duniya se samast nuclear weapons ki samapti ke lie ek samayabaddh programme ka prastav karke is treaty ko disarmament ke dhanche men dhalne ki mang jahir ki.', 'haq mujahideen ke dashak ke soviyat-aphgan war ke samay se hi cia se jurai the', 'aur uda hi ne tummen se baz ko baz par rizak daulat men tarjih di hai phir jin logon ko rozi jyada di gee hai vah log apni rozi men se un logon ko jin par unka dastaras ikhteyar hai laundi ulam vaairah dene vala nahin halki is mal men to sab ke sab malik gulam vaairah barabar hain to kya ye log uda ki neamat ke munkir hain', 'pani men nice ka vahan bahut baiya intazam hai.', 'phitakrimi infestation men human primary poshi ya host hai', 'unhonne kaha ki unka job multifarious force unhonne salah projection ki unhen yah sadaiv yad people chahie ki unke behaviour aur conduct se n keval police seva ke bare men najriya banata hai varan vah vastav men common janta ke samne entire administration ka reflection hota force', 'rural electrification ekal electric ghar', 'indian national congress ne simon commission ke gathan par appointment prtikriya vyakt ki', 'snow leopard himalay men blue sheep ka shikar karta hai.', 'ek hydrological unit ke lie jal snsadhan development and management ki yojna banani hogi.', 'madras high court women ke enrolment men bhi pioneer raha.')]\n",
      "[('Malik Bhago, the chief of the place invites the Guru to partake food from the rich feast arranged by him.', 'We have not heard of any such thing in the old religion. This is nothing but a fabrication.', 'There is a lesson for you concerning cattle. We provide you with drink from their bellies and many other benefits. You can consume them as meat.', 'Ganesh Chaturthi and Janmashtmi are the other two festivals which are celebrated with lots of fun and frolic.', 'Bharavi was almost a contemporary of Kalidasa.', 'Recognizing this mantra of statecraft, Karnataka pursues the deepening of bond between the government and the governed.', 'The birth of Urdu itself is due to this fact.', 'Disability and Housing Policy housingpolicy_disability@detr.gov.uk', 'Observe the fly land on the ceiling of your zoom after its flight.', 'Today, the Allahabad High Court has jurisdiction over the largest state in India, covering nearly one-sixth of our total population.', 'Electricity from these grids can be distributed to residential houses, community buildings and business centers through these equipments.', 'and We shall make him the lowest of low', \"And what if there 's no GPS?\", 'The proofs can be submitted after logging in online under the section “My Applications” or directly contacting a DI office.', 'The certificate has already been imported.', '[it will be] lowering and exalting.'), ('place chief , malik bhago guru ko apne dvara sushebhit ki huee rich feast men food grahan karne ke lie kahta hai.', 'ham logon ne to ye bat pichhle din men kabhi suni bhi nahin ho n ho ye uski man gant hai', 'aur nishchay hi lesson lie cattle men bhi ek shiksha hai. unke bellies men jo kuchh hai drink se ham tumhen pilate hai. au lesson lie unmen bahut-se benefits hai aur unhen tum khate bhi ho', 'other alava ganesh chaturthi aur janmashtmi kuchh adhik dhoom-dham ke sng janmashtmi jate hain.', 'bharavi karib karib kalidas ke contemporary the', 'statecraft ke is mantra ko pahchante hue , karnataka dvara government aur shasit ke bich snbndhon ko ghanishth banane ka pryas kiya ja raha hai.', 'urdu bhi hindi ki is shakti se hi birth huee fact', 'disability aur housing ke bare men policy housingpolicy_disability  detrgovuk', 'ghareloo observe the fly ke bad apne kamne ki chhat par baithte hue dekhie.', 'aaj, ilahabad uchch state in india ke sabse largest state par nyayadhikar hai jismen hamari jansnkhya ka lagabhag chhatha hissa shamil tha.', 'in equipments se grids star ki electricity business residential community buildings v vyaparik centers ko prdan ki ja sakti hai.', 'phir hamne use booa lowest of low past se past halat ki taraph pher diya', 'aur agar GPS nahin hai', 'proofs ke section ke tahat online  mere anupryog  men prvesh karne ya sidhe ek di office se snpark karne ke bad prastut kiya ja sakta hai.', 'certificate pahle hi aayatit kiya ja chuka hai', 'ki kisi ko exalting karegi kisi ko buland')]\n",
      "[(\"but it does tend to leave you waking up crying at three o'clock in the morning.\", 'A guidance and a mercy for the well - doers:', 'Those are the verses of the clear Book.', 'The company has subsequently moved the Supreme Court .', 'O dear Prophet (Mohammed – peace and blessings be upon him), wage holy war against the disbelievers and the hypocrites, and be strict with them; and their destination is hell; and what a wretched outcome!', 'that you will be granted whatever you choose?', 'Thereafter, We utterly destroyed the rest,', 'But nay! I swear by the sunset redness,', \"PARTLY flattered by Mussolini 's courtship and partly curious to see for himself this colourful personality and its impact on an ancient and lively culture, Tagore accepted an invitation from Italy and sailed for Naples on 15 May 1926.\", 'Sardar Bhagat Singh was the leader of the youth movement in Punjab carried on under the banner of Nawjawan Bharat Sabha with which Subhas Chandra associated himself closely at a later stage .', 'No such items having value of Rs. 10 lakh or more has been procured by PMO during the financial year 2015-16.', 'Likewise, the two lateral walls of the mandapa are relieved five times, corresponding to the hara elements, the central one on each side being a devakoshtha which is again found on either wing of the front eastern wall on either side of the shrine entrance.', 'India is grateful for Tanzania’s support to India’s claim for permanent membership of the UN Security Council.', 'Its programmes earned more than Rs 637 crore during the financial year 2000 - 2001 through commercial advertisements.', 'that astonished the media business.', 'At the back of Pratibimbal Lake there is a walking path'), ('magar ho sakta hai ki aap morning ke waking up crying hue paye jayen.', 'jo  guidance  un logon ke lie hidayat v mercy hai', 'ye vazee v clear book ki aayten hai', 'uske bad company ne supreme court ka darvaja khatakhtaya', 'ae prophet! inkar karnevalon aur kaptachariyon se jihad karo aur unke sath sati se pesh aao. unka thikana jahannam hai aur vah antta pahunchne ki bahut buri jagah hai', 'ki jo chiz pasand karoge tum ko vahan zaroor milegi', 'aur destroyed the rest phir hamne un logon ko utterly kar dala', 'to nay sunset ki muri ki redness', 'kuchh to musolini ke samman nivedan se prasann hokar aur kuchh uske colourful personality aur ancient and lively snskriti par uske prbhav ko dekhne ki chah se ravindrnath ne itli ka aamntran svikar kiya ve 15 mee 1926 ko nepals ke lie ravana hue', 'sardar bhat sinh pnjab ki  naujvan bharat sabha  nam se viyat yuva aandolan ke neta the , jisse bad men subhash chandr ka bhi antrng sahachary sthapit huaa', 'pmo mntri karyalay men financial year 2015-16 ke rs such koee bhi items nahi kharida gaya jiska value 10 lakh rupe ya usse more ho.', 'isi prkar mandapa ki do lateral walls men panch ubhar hara elements ke anuroop hain jismen se har disha men central ek devakoshtha hai jo puna shrine entrance ke side aur front ki eastern wall ke side khndon par prapy hai.', 'india , un rashtr security council ki permanent membership ki  claim ke prti tanzania ke support ke lie grateful hai.', 'dooradarshan ne financial year 2000-2001 ke dauran vyaprik vijnjapnon se lagabhag chhah arab 37 karor rupye programmes earned', 'business in media knpniyon ki hava nikal di.', 'prtibimbit lake ke back walking path')]\n",
      "[('Almost all Political Parties with their representatives contest the election for Counselor.', \"she 's standing, those Rockports slightly apart, but grounded.\", 'you can have a pack.', 'Section - 231, Income-tax Act, 1961-2018', 'The body of humans are prone to destruction but destruction never occurs to the soul.', 'Parallel transfers require multiple bit paths.', \"that's been viewed four million times.\", \"Retrieving quota information for folder '% s'\", 'He never lost a chance to refer to them in an appreciative voice when delivering important speeches.', 'Push it so as to cover the full length of the nozzle of the stove and the regulator.', 'Enable audible notifications when new messages arrive.', 'Later a public meeting was called which was addressed by Hakim Ajmal Khan and Pandit Malaviya.', 'Paraumbilical is also known as paraomphalic.', 'And when the Garden is brought near; -', 'Sallow refers to sickly yellowish complexion.', 'All these forms have their own specialised areas of operating and organising business activities.'), ('contest the election hetu lagabhag sabhi political parties apne pratyashi khare kartin hain.', 'vo standing hain, unke slightly joote ek-doosre se thore door, par zamin par achchhi tarah jame hue', 'aap ek pack le sakte hain', 'section - 231 , aay-kar act , 1961-2018', 'body of humans humans are prone aatma ka kabhi nash nahin hota.', 'parallel transfers ko bahuvidh path ki aavashyakta hoti hai.', 'aur usko bhi chalis million times viewed four million', 's folder ke lie ke lie quota prapt kar raha hai', 'important speeches men ve in donon ko udghrit karna nahin chance the.', 'tyoob ko achchhi tarah lagaen jisse ki stove aur regulator push ke nozzle ko full tarah dhnka ja sake.', 'ne messages arrive par enable audible notifications karen', 'pichhe ek bari sabhi huee jismen hakim sahab aur pandit hakim ke public hue.', 'paranabhik ko nabhi ke pas sthit jana jata hai', 'aur jab garden nikat kar di jaegi ,', 'panduvarn ya pitavarn complexion ko refers karta hai', 'in sabhi forms ka areas evn business activities aayojit karne ke vishishta kshetr own')]\n",
      "[('A group of people who work together for a particular job / purpose.', 'Aryans did not make any statues or temples for deities.', '” I hold the power of life and death for every person I take with me .', 'Crowding also brings about other factors of destruction such as disease and malnutrition.', \"We 're going to win because we have dreams.\", 'SECTION 4 OF INDIAN PARTNERSHIP ACT, 1932', 'Inspired Teachers’ by their own example can instill good moral values in their students.', 'Please accept, Excellency, my good wishes for your personal health and well-being, as well as for the progress and prosperity of the friendly people of the Republic of Equatorial Guinea.', 'Open the selected bookmark in a new tab', 'It tells you what vitamin K deficiency bleeding is, discusses the benefits of vitamin K supplements and possible disadvantages of its use, and gives the best current advice.', 'The square aditala outer wall carries on top over its prastara four karnakutas at the corners and four salas in between over the central bays of the wall The adhishthana below is extended forward and widened to form the base of the wider square mandapa in front .', 'They were the products of the revolution.', 'Smoking, drinking, stress, chemicals of the environment, high fructose corn syrup, Twinkies.....', 'The Budget is presented with a Budget Speech which is , in fact , one of the most important speeches in Parliament .', 'Whoever brings virtue shall receive [a reward] better than it, but whoever brings vice—those who commit misdeeds shall not be requited except for what they used to do.', 'SECTION 4 OF INDIAN PARTNERSHIP ACT, 1932'), ('group of people samooh jo samoohik rup se kisi karypryojan people who work', 'aryans deities ki koee statues ya temples nahin banate the.', 'jo bhi mere sath chalta hai uski life and death mere hathon men hoti hai .', 'crowding bhi destruction ke any karnon ko janm deti hai, jaise bimari aur aparyapt poshan.', 'ham win vale hain kyonki hamare pas ek sapna hai.', 'indian partnership act , 1932 ki section 4', 'inspired shikshak apne udaharan se apne vidyarthiyon instill good moral moolyon ka samavesh kar sakte hain.', 'kripya apne vyaktigat health and well-being aur republic of equatorial ki maitripoorn janta ki pragti aur samriddhi ke lie meri shubhkamnaen svikar karen.', 'selected bookmark ko ne tab men open', 'yah patrak batata hai ki vitamin ke kh deficiency bleeding vitamin ke kh ki kabhi kami ki vajah se khoon bahne lagna kya current advice yah vitamin ke kh sapliments ke labh aur snbhavit prtikool paristhitiyon ke bare men bhi jankari deta current advice', 'square aditala ki outer wall par uske prastara ke oopar corners par char karnakutas aur wall ke central khndon ke oopar bich men char shala hainniche adhishthan ko front baakar wider kar diya gaya hai , taki samne ek adhik bare square mandapa ka base ban sake', 've revolution ki products thin', 'smoking , madira drinking , chinta , prdushan , high environment', 'bajat pesh karte hue budget speech diya jata hai jo vastav men snsad men sabse important speeches men se ek hota hai', 'jo koee virtue shall receive aaya use usse uttam prapt hoga, aur jo bura aacharan lekar aaya to buraiyan karnevalon ko to vas vahi milega jo ve karte the', 'indian partnership act, 1932 ki section 4')]\n",
      "[('♫ from the edge of the observable universe ♫', 'By no means! Surely it is a flaming fire', 'Parliamentary Forum on Water Conservation and Management;', 'The fact, however, is that our region remains amongst the least integrated and developed, underlining the need for greater co-operation and intensification of our trade effort.', 'Specify the size and location of the main window', 'The game has no solution. Undo or start again.', \"I 'll try my best and see if I can be of any help.\", 'Save this, then create another:', 'And Thamood—those who carved the rocks in the valley.', 'A meeting was convened to finalize the date of launch of the new channel.', 'There were the usual speeches, garlanding and so on.', 'in 1998 while in school haris sheild match his co-partner vinod kamble and sachin made 664 runs together', 'It was a frightening bet .', 'Process ID assigned a unique number to every process running in the system.', 'In Terms of its geographic size India is the seventh largest country in The World.', 'Allows you to drag a Bugzilla URL from your browser directly into a Gnote note. The bug number is inserted as a link with a little bug icon next to it.'), ('observable jane vale universe ke edge se', 'magar ye surely n hoga', 'jal conservation and management snbndhi parliamentary forum', 'tathapi fact yah hai ki hamara region least integrated aur viksit greater huaa hai , jo hamare trade effort ke intensification sahyog aur teji ki need darshata hai.', 'size aur location ka main window', 'game ke pas koee solution nahin hai  vapas le ya phir shuroo karen', 'tumhe dukh men help i bhi dukh ho raha hai , islie tum best ko bachane ki main ji-jan se koshish karoonga.', 'is sahejen , to ek aur banane ke lie :', 'aur samood ke sath kya kiya jo valley ra carved the rocks kar ghar banate the', 'new channel ke vimochan ki date tay karne ke lie meeting bulaee gee.', 'usmen , usual jaisa hota hai , malaen pahnaee gee aur speeches aadi hue.', '1988 me skool ke ek haris sheild match ke dauran sathi ballebaj vinod kanbli ke sath sachin ne aetihasik 664 rano ki avijit sajhedari ki.', 'bari bhayavah bet thi yah .', 'id aaeedi , system men chaloo pratyek process ke lie ek unique number aavntit karta hai.', 'geographic size india ke aadhar par vishv ka satvan sabse seventh largest country', 'allows bugzilla URL khinchna note sidhe gnote men  bug number ko bataur url jora jata hai ise nikat koee little bug chihn ke sath')]\n",
      "[('A similar provision exists for the Deputy Chairman Rajya Sabha in article 90.', \"Don 't ever see the face of that big whore!\", 'Then which of the favours of your Lord will ye deny? -', 'Leaflets with more detailed informaiton on these sevices are available.', 'and we had thought that men and jinn would never speak against God a lie.', \"And he said: You have only taken for yourselves idols besides Allah by way of friendship between you in this world 's life, then on the resurrection day some of you shall deny others, and some of you shall curse others, and your abode is the fire, and you shall not have any helpers.\", 'No indeed! When it reaches up to the collar bones', 'The Ministry has taken several steps to ensure the Scheme is implemented effectively', 'It has been called Chhath because of fast of Suryashashthi.', 'Swelling of the rectum and the colon.', 'Change sound volume and sound events', 'On GRETIL thousands of Sanskrit text in various encoding. GRETIL', 'And [Yusuf (Joseph)] told his servants to put their money (with which they had bought the corn) into their bags, so that they might know it when they go back to their people, in order that they might come back.', 'For instance, for a Muslim child the first and most important part of his education was to learn to read Arabic, in order that he might be able to read the Quran.', 'He congratulated NIFM for choosing this motto.', 'In two phases banyan and in the other two phases hare (rabbit)is seen.'), ('article 90 men rajya sabha ke exists ke lie similar hi provision he', 'ab us rand ka face don dekhna.', 'ata tum donon apne rab ki anukampaon men se kis-kis ko deny', 'in sevices ke leaflets men detailed informaiton ke lie patrika available hai.', 'aur ye ki hamara to men tha ki aadmi aur jin uda ki jinn jhoothi bat nahin bol sakte', 'aur ibrahim ne apni aum se kaha ki tum logon ne uda ko chhorakar buto ko sirph duniya ki zindgi men baham mohabt karne ki vajah se uda bana rakha hai phir yamat ke din tum men se ek ka ek inkar karega aur ek doosre par lanat karega aur aair tum logon ka thikana jahannum hai aur us vakt tumhara koee bhi madadgar n hoga', 'kuchh nahin , jab pran knth ko aa collar ,', 'ministry ne is scheme ko prbhavi dhng se lagoo karne ke lie several steps uthae hain.', 'moolta soory shashthi fast suryashashthi karan ise chhath kaha gaya hai.', 'rectum aur brihdantr ka swelling', 'sound aavaj aur sound events change', 'par sahasron sanskrit text anek sroton se anek inkoding men', 'aur ham zarur is kam ko poora karengen aur yoosuph ne apne mulazimon naukron ko hukm diya ki unki jma poonji unke boro men choopke se rakh do taki jab ye log apne ehlo ayal ke pas laut kar jaen to apni put their money le', 'udaharan ke taur par, ek muslim child ki shiksha ka learn to read mahatvpoorn ang tha arbi padhne ka jnjan taki vah kuran padh saken', 'unhonne enaaeeephem ko is siddhant ko choosing ke lie congratulated di thi.', 'iske do ansho me pippal aur do ansho me mahan shashkhargosh dikhayi deta hai.')]\n",
      "[('Shape actor with alpha channel when picking', 'This Weather Underground, by some unlawful intent, sent a terror group to the USA to with an aim to attract attention of the world towards their needs.Some excerpts of the relations of these terror groups were mentioned in some media.', '% s is calling you. Do you want to answer?', 'Exactly how LSD acts on the mind is not really known at present.', 'What they will gain will be the condemnation of God, the angels, and all people,', 'Whether the image gallery pane should be resizable.', 'and who will be told, \"This is what you had called a lie\".', 'So be patient with gracious patience.', 'Failed to store mail in temp file% s:% s', 'Total Disbursements went upto `2, 629 Mn', 'Siyaramsharan Gupta Brotherhood of communities and inter - religious interaction is the very basis of our Indian society.', \"In their case, it is included in the capitation fee upto a distance of 5 km. between the Clinic of IMP and IP 's residence.\", 'This treatment is only possible in proved cases of allergic asthma.', '“Call Washington! Call Washington! ” “वॉशिंगटन', 'Your discipline, commitment and determination will help you navigate through the rough terrain.', 'is another human being saying, “Do you understand this?”'), ('chunne ke dauran alpha channel ke sath actor ko shape den', 'is weather underground Weather Underground jo hai jabki koee hatahat karan vibhinn duniya rajnitik muddon ke lie midiya ka dhyan lane ke lie terror group ka pradarshan ek ugrvadi sngathan amerika gaya thais mudde se kee snkshipt die ge samachar sevaon dvara terror group ke snbndh men hi ullekh hai', 's aapko bula kar raha hai  kya aap javab dena chahte hain', 'lsd  es  di  mind par kis prkar asar dalti hai , yah present men thik-thik pata nahin hai.', 'un people ka badla yahi hai ki unapar allah aur farishton aur sare condemnation of god hai', 'kya image gallery pane badalne yogy hona chahie', 'phir kaha jaega, yah vahi hai jis tum lie the', 'ata patient se kam lo , uttam patient', 's failed to store store mail men asaphla s', 'kul disbursements bakar 2,629 total mn hona', 'religious brotherhood aur samprdayik gupta milap indian communities ke basis hai.', 'unke mamle men , ise bima chikitsa vyavsayi ke clinic aur ip case ke residence ke bich 5 ki  km  ki distance tak prti case fee men shamil kiya jata hai.', 'yah treatment keval allergic janit asthma ke nishchit cases men hi karagar possible', 'se call karen! vshingatan se call karen!', 'aapka discipline , samarpan aur commitment mushkil halat se gujarne men aapki rough karega.', 'koee doosra manushy ye kahe, kya aapko samajh understand')]\n",
      "[('Items of export which are other than the crude oil.', 'So today We will save you in body that you may be to those who succeed you a sign. And indeed, many among the people, of Our signs, are heedless', 'When the eye is bewildered,', 'The greatest crime in the world is not developing your potential. When you do your best, you are helping others.', '\"% s\" expects the second argument to be a time _ t', 'Uncus is any hook - shaped process or part', 'Standard Chartered has brought in 140 million.', 'Goods sent on consignment basis remain in possession and custody of the consignee.', \"Nikzad Nojoumi 's illustrations have been used for a variety of children' s books.\", 'They get upset at the slightest inconvenience and the government officials have a difficult task to bring them round.', \"Therefore listen not to the Unbelievers, but strive against them with the utmost strenuousness, with the (Qur 'an).\", \"Checking for installed package '% s'\", '\"As to these folk, - the cult they are in is (but) a fragment of a ruin, and vain is the (worship) which they practise.\"', 'The person who completes the action of \"behold\" meaning to see someone or something in an impressive manner.', 'Allah destroys interest and gives increase for charities. And Allah does not like every sinning disbeliever.', 'This is surely in the earlier Books,'), ('crude oil ke alava niryat kiya jane vala any malsaman.', 'to people today sign ruh ko to nahin  magar  tere body ko  many signs hone se  b', 'to jab eye chaundhiya jaegi,', 'apni potential ka poorn vikas n karna world men sabse greatest crime hai  jab aap apni poorn kshamta ke sath kary best karte hain , tab aap doosron ki sahayta karte hain', 's  doosre argument ki ek time _ second ki aasha karta hai', 'ankush ek huk aakariy process or part hai.', 'standard chartered 140 million brought hai.', 'pareshan-aadhar par bheja gaya goods consignee ke suraksha v dharita men remain basis', 'nikazad naujoomi ke chitr anekon bal pustkon men liye gaye hai.', 'thori bhi asuvidha se ve upset ho uthte hain aur government officials ke lie unhen raste par task to bring samasya ban jati hai', 'ata inkar karnevalon ki bat n manta aur is  qur  ke dvara unse unbelievers karo , bara unbelievers !  ji tor koshish', 'installed package   s  ke lie janch raha hai', 'worship hi vah folk fragment hue hai , ruin hokar rahega. aur jo kuchh ye kar rahe hai sarvtha vain hai.', 'kisi ko impressive manner se dekhne ki action', 'khuda sood ko mitata hai aur increase for charities hai aur jitne nashukre gunahgar hain khuda unhen dost nahin rakhta', 'nissndeh yahi bat pahle ki earlier men bhi hai')]\n",
      "[('The naqara, twenty pairs, more or less. 3.', 'but to worship Me? Surely, that is a straight path.', 'Whether the label widget should fill all available horizontal space', 'Under the Act, the Controller - General of Patents, Designs and Trade Marks under Department of Industrial Policy and promotion, Ministry of Commerce and Industry is the Controller of Designs.', 'Process of exercising control over trading in contraband goods.', 'Every time you take a full and deep breath, or when you cachinnate well, you get extra energy instantly.', 'You have to be in this range.', \"And this is what we 're designing for.\", 'Radhakrishnan returned to the Madras Presidency College in 1911.', 'The IT sector has positioned India globally as a major services hub, becoming a major exporter of IT, BPO and software services.', 'Total Disbursements went upto `2, 629 Mn', 'It tells us how the data within the file is organized. A programme using the data must be able to recognize and access the data within the file.', 'Priyobroto had felt a wave of deep contentment.', 'Unfortunately, some people who have been the victim of crime are more vulnerable, in the short term, to further crime.', 'The birth of Urdu itself is due to this fact.', 'Therefore that process is not sufficient for our Yoga; something else is needed more embracingly positive.'), ('2 naqara jiski koee twenty pairs hain.', 'aur yah ki meri bandgi karo yahi straight path hai', 'kya label widget sabhi upalabdh horizontal space ko bharna chahie', 'act ke tahat , general , patents , dizain aur tred mark commerce evn trade ministry , industrial policy evn pravartan department ke antargat dizainon ka controller hai.', 'vinishiddhvarjit goods ke trading par control ke lie process prakriya.', 'har bar jab bhi aap full and deep sans lete hain, athva jor se atthas lagate hain, to aapko extra energy instantly prapt hoti hai', 'aapko isi reng me range hai', 'aur yah hai jiske lie ham designing kar rahe hain', 'madras presidency college men radhakrishnan 1911 men laute.', 'soochna aur praudyogiki kshetr ne bharat ko soochna praudyogiki,bipio tatha sphtveyar sevaon ka prmukh niryatak banate hue ek major services hub ke roop men vishv men sthapit kar diya hai.', 'kul disbursements bakar 2,629 total rupe hona', 'yah batata hai ki file ke andar data kaise sngthit hai. data istemal karne vale kisi pragram ko file ke andar data pahchanne tatha access karne men able hona programme', 'isse pata nahin kitna deep sukh use mila tha.', 'vulnerable , victim of crime hue kuchh logon men phir se uske victim banne ki adhik prvritti hoti hai', 'urdu bhi hindi ki is shakti se hi paida huee hain.', 'isliye vah vidhi hamare yog ke liye paryapt nahin kisi aur sadhan ki bhi aavashyakta hai jo adhik sarvagrahi roop men bhavatmak ho.')]\n",
      "[('How to claim see page 15.', 'Writing folder permissions, please wait...', 'It was only later that I came to know about it.', 'Leaflets with more detailed informaiton on these sevices are available.', 'you can have a pack.', 'Toggle display of the status bar.', 'Their needs come low on the political agenda in countries that lack money and resources.', 'To account for some of the baffling features of the continents and oceans the great British geologist Arthur Holmes 1928, visualised some kind of convection currents in the mantle which caused movement of the crust.', 'Daar ji let our friendship grow but asked him to get permission of his parents for this match so that there was no problem later on.', 'Sector that includes entire wants and needs satisfying population of the country.', 'Sayings on Hindi by various great personalities', 'The so-called philosopher king who could rise above the stereotypes of his own party .', 'Amount outstanding under priority sector lending by public sector banks during the period June 1969 to September 2000 increased from Rs 441 crore to Rs 1, 34, 107 crore and accounted for 43. 41 per cent of their net bank credit as on September 2000.', 'They accept that they do know each other directly at see.', '21.Lovhaghat also called Iron Fort,it is one of the greatest attractions of Bharathpur.', 'In our own area, we are striving ceaselessly to clear old suspicions, to remove barriers to understanding and to create conditions for an enduring friendship between Bangladesh, Pakistan and ourselves.'), ('yah kaise arji bhar ke mil sakta hai is ke lie pan krmank 15 dekhen .', 'folder anumtiyan likh raha hai , kripya wait karen  User', 'yah mujhe bad men pata chala.', 'in sevaon ke baren men detailed informaiton ke lie patrika upalabdh hai.', 'aap ek basta le sakte hain', 'status bar ka toggle display karen', 'money aur sadhnon ki low se joojhte countries ki political prathmiktaon men in logon ki needs ka sthan bahut niche hota hai.', 'mahadvipiy tatha mahasagron ki kuchh chaunka dene vali vishishttaon ki vyakhya karne ke lie great british geologist aarthar 141bhoomndliy vivartniki homs 1928 ne yah kalpna ki ki prithvi ke pravar men kuchh aesi snvahan dharaen utpann hueen jo bhooprishth ke snchalan ka karan banin.', 'dar ji ne hamari mitrta ko pallvit-pushpit hone diya, parantu inko kaha ki tum bhi apne gharvalon se is snbndh men sahamti le lo, taki bad men koee kathinaee n ho.', 'vah sector jismen desh ki vah entire population jo apni ichchhaon aur aavashyaktaon ki poorti men snlagn ho shamil hoti ho.', 'hindi ke bare men great personalities ke vachan', 'ek so-called philosopher king , jo apni party ke rise se oopar hai', 'is bich priority prapt sector ko di period outstanding lending amount june 1969 se september 2000 ke bich 441 karod se badh kar 1,34,107 crore net ho period , jo public sector ke banks ke shudgh bank lending ka 4341 prtishat thi.', 've svikar karte hain ki ve ek doosre par sidhe see other hai.', '21  fort iron phort ke roop men bhi jana jata hai fort bharatpur ke prmukh aetihasik attractions men se ek hai.', 'svyn apne kshetr men ham lagatar koshish kar rahe hai ki clear old suspicions ho, aapsi samajh ki rah khule aur bngladesh, pakistan tatha bharat ke bich sthayi mitrta ke lie paristhitiyan anukool bane.')]\n",
      "[('It is indeed a matter of introspection as to how, despite availability of agricultural labour and sizeable arable land, notwithstanding some decline in Asia, many Asian and African countries have witnessed spiralling food prices.', 'These are the ones who found their fathers steeped in error,', 'When he came to his Lord with a pure heart [attached to Allah Alone and none else, worshipping none but Allah Alone true Islamic Monotheism, pure from the filth of polytheism].', 'The rate of interest charged on cash credit and overdraft is relatively much higher than the rate of interest on bank deposits', 'Loan amount up to Rs. 7. 50 lacs: 10 years.', 'Ans : Twenty-eight (28),11.71%', 'Sucharita said, Does respectful regard always show us the truth?', 'International usages are adopted in international communication by most of the countries of the world.', 'No such items having value of Rs. 10 lakh or more has been procured by PMO during the financial year 2015-16.', 'It administers the Urban Land (Ceiling & Regulation) Act, 1976 as well as the Urban Land (Ceiling & Regulation) Repeal Act, 1999.', 'No maintenance charges required to be paid.', 'Failed to get next auto increment value', 'Query free / busy information for the attendees', 'Yes, if either of the parties want an adjournment of hearing, they should make an application in writing to the Exchange giving reasons for seeking adjournment to the Exchange in advance to enable the Exchange to forward such request to the arbitrator.', 'Video output for Windows 7/Windows Vista with Platform update', 'Publication of Rashtriya Bank Srijana:'), ('is matter par vastav men introspection ki jaroorat hai ki agricultural shrmikon tatha sizeable aakar men kheti yogy land , asia men kuchh decline aane ke bavjood , ke bad bhi bahut se asian aur african countries men khadyann ki prices men atydhik vriddhi kaise huee hai.', 'un logon ne found their fathers ko gumrah paya tha', 'jab vah apne lord ki ibadat ki pure heart men aesa dil lie hue bae jo har aeb se pak tha', 'nakdi rin aur ovaradrapht par prbhavit byaj dar bank deposits ki dar se apekshakrit bahut adhik hoti interest', 'ru 750 tak ki rin ke lie: 10 years', 'uttra twenty-eight 28, 1171', 'sucharita ne kaha , shraddha ke dvara respectful kya truth hi milta hai', 'most ke adhikansh countries dvara international prthaprachalan ko usages communication men apna liya gaya hai.', 'prdhan mntri karyalay men financial year 2015-16 ke dauran aesa koee bhi saman nahi kharida gaya jiska mooly 10 lakh rupe ya usse adhik ho.', 'yah urban land  uchchitam ceiling aur regulation  , act , 1976 tatha urban land  uchch tam ceiling aur regulation  repeal act , 1999  ka prshasan karta hai.', 'koee maintenance charges dene ki jarurat nahin hai.', 'next auto increment value prapti viphal huee', 'upasthit vyakti ke lie busy information prashnagat karen', 'han, yadi donon men se koee bhi ek paksh sunvaee ka sthagan chahta hai to unhen sthagan reasons for seeking ko batate hue ekschenj ke pas agrim roop se ek make an application jisse ki ekschenj aese anurodh ko aarbitretar ko bhej sake.', 'platform update ke sath Windows 7Windows Vista ke lie video output', 'rashtriya bank srijana ka publication :')]\n"
     ]
    }
   ],
   "source": [
    "for batch_num, batch in enumerate(iterator):\n",
    "    print(batch)\n",
    "    if batch_num > 16:\n",
    "        break    "
   ]
  },
  {
   "cell_type": "markdown",
   "id": "53104cef",
   "metadata": {},
   "source": [
    "### Tokenization\n",
    "\n",
    "Now we will map all these batches to their respective values from the dict created above."
   ]
  },
  {
   "cell_type": "code",
   "execution_count": 19,
   "id": "51ffc74c",
   "metadata": {},
   "outputs": [],
   "source": [
    "def tokenize(sentence, language_to_index, start_token=True, end_token=True):\n",
    "    sentence_word_indicies = [language_to_index[token] for token in list(sentence)]\n",
    "    if start_token:\n",
    "        sentence_word_indicies.insert(0, language_to_index[START_TOKEN])\n",
    "    if end_token:\n",
    "        sentence_word_indicies.append(language_to_index[END_TOKEN])\n",
    "    for _ in range(len(sentence_word_indicies), max_sequence_length):\n",
    "        sentence_word_indicies.append(language_to_index[PADDING_TOKEN])\n",
    "    return torch.tensor(sentence_word_indicies)"
   ]
  },
  {
   "cell_type": "code",
   "execution_count": 20,
   "id": "6bc3044b",
   "metadata": {},
   "outputs": [
    {
     "data": {
      "text/plain": [
       "[('It is indeed a matter of introspection as to how, despite availability of agricultural labour and sizeable arable land, notwithstanding some decline in Asia, many Asian and African countries have witnessed spiralling food prices.',\n",
       "  'These are the ones who found their fathers steeped in error,',\n",
       "  'When he came to his Lord with a pure heart [attached to Allah Alone and none else, worshipping none but Allah Alone true Islamic Monotheism, pure from the filth of polytheism].',\n",
       "  'The rate of interest charged on cash credit and overdraft is relatively much higher than the rate of interest on bank deposits',\n",
       "  'Loan amount up to Rs. 7. 50 lacs: 10 years.',\n",
       "  'Ans : Twenty-eight (28),11.71%',\n",
       "  'Sucharita said, Does respectful regard always show us the truth?',\n",
       "  'International usages are adopted in international communication by most of the countries of the world.',\n",
       "  'No such items having value of Rs. 10 lakh or more has been procured by PMO during the financial year 2015-16.',\n",
       "  'It administers the Urban Land (Ceiling & Regulation) Act, 1976 as well as the Urban Land (Ceiling & Regulation) Repeal Act, 1999.',\n",
       "  'No maintenance charges required to be paid.',\n",
       "  'Failed to get next auto increment value',\n",
       "  'Query free / busy information for the attendees',\n",
       "  'Yes, if either of the parties want an adjournment of hearing, they should make an application in writing to the Exchange giving reasons for seeking adjournment to the Exchange in advance to enable the Exchange to forward such request to the arbitrator.',\n",
       "  'Video output for Windows 7/Windows Vista with Platform update',\n",
       "  'Publication of Rashtriya Bank Srijana:'),\n",
       " ('is matter par vastav men introspection ki jaroorat hai ki agricultural shrmikon tatha sizeable aakar men kheti yogy land , asia men kuchh decline aane ke bavjood , ke bad bhi bahut se asian aur african countries men khadyann ki prices men atydhik vriddhi kaise huee hai.',\n",
       "  'un logon ne found their fathers ko gumrah paya tha',\n",
       "  'jab vah apne lord ki ibadat ki pure heart men aesa dil lie hue bae jo har aeb se pak tha',\n",
       "  'nakdi rin aur ovaradrapht par prbhavit byaj dar bank deposits ki dar se apekshakrit bahut adhik hoti interest',\n",
       "  'ru 750 tak ki rin ke lie: 10 years',\n",
       "  'uttra twenty-eight 28, 1171',\n",
       "  'sucharita ne kaha , shraddha ke dvara respectful kya truth hi milta hai',\n",
       "  'most ke adhikansh countries dvara international prthaprachalan ko usages communication men apna liya gaya hai.',\n",
       "  'prdhan mntri karyalay men financial year 2015-16 ke dauran aesa koee bhi saman nahi kharida gaya jiska mooly 10 lakh rupe ya usse adhik ho.',\n",
       "  'yah urban land  uchchitam ceiling aur regulation  , act , 1976 tatha urban land  uchch tam ceiling aur regulation  repeal act , 1999  ka prshasan karta hai.',\n",
       "  'koee maintenance charges dene ki jarurat nahin hai.',\n",
       "  'next auto increment value prapti viphal huee',\n",
       "  'upasthit vyakti ke lie busy information prashnagat karen',\n",
       "  'han, yadi donon men se koee bhi ek paksh sunvaee ka sthagan chahta hai to unhen sthagan reasons for seeking ko batate hue ekschenj ke pas agrim roop se ek make an application jisse ki ekschenj aese anurodh ko aarbitretar ko bhej sake.',\n",
       "  'platform update ke sath Windows 7Windows Vista ke lie video output',\n",
       "  'rashtriya bank srijana ka publication :')]"
      ]
     },
     "execution_count": 20,
     "metadata": {},
     "output_type": "execute_result"
    }
   ],
   "source": [
    "batch"
   ]
  },
  {
   "cell_type": "code",
   "execution_count": 21,
   "id": "72cb2eae",
   "metadata": {},
   "outputs": [],
   "source": [
    "eng_tokenized, hing_tokenized = [], []\n",
    "for sentence_num in range(batch_size):\n",
    "    eng_sentence, hing_sentence = batch[0][sentence_num], batch[1][sentence_num]\n",
    "    eng_tokenized.append( tokenize(eng_sentence, english_to_index, start_token=False, end_token=False) )\n",
    "    hing_tokenized.append( tokenize(hing_sentence, hinglish_to_index, start_token=True, end_token=True) )\n",
    "eng_tokenized = torch.stack(eng_tokenized)\n",
    "hing_tokenized = torch.stack(hing_tokenized)"
   ]
  },
  {
   "cell_type": "code",
   "execution_count": 22,
   "id": "40d78b1a",
   "metadata": {},
   "outputs": [
    {
     "data": {
      "text/plain": [
       "tensor([[41, 85,  1,  ..., 96, 96, 96],\n",
       "        [52, 73, 70,  ..., 96, 96, 96],\n",
       "        [55, 73, 70,  ..., 96, 96, 96],\n",
       "        ...,\n",
       "        [57, 70, 84,  ..., 96, 96, 96],\n",
       "        [54, 74, 69,  ..., 96, 96, 96],\n",
       "        [48, 86, 67,  ..., 96, 96, 96]])"
      ]
     },
     "execution_count": 22,
     "metadata": {},
     "output_type": "execute_result"
    }
   ],
   "source": [
    "eng_tokenized"
   ]
  },
  {
   "cell_type": "markdown",
   "id": "af1f42dc",
   "metadata": {},
   "source": [
    "### Masking\n",
    "\n",
    "For the Encoder inputs we dont need masked tokens , but while using the decoder in inference we won’t have the next words to look at as they are not yet predicted yet.\n",
    "\n",
    "Therefore we generated masked tokens to input to the decoder while training.\n",
    "\n",
    "We fill the mask with 0 & -infinity values in an upper trangular matrix of the shape (len_of_sentence ,batch_size). This when passed through the softmax funnction of the transformer will be converted into $e^0$ → 1   & $e^{-\\inf}$ → 0. Which means the model can not understand meaning of the values which are zero."
   ]
  },
  {
   "cell_type": "code",
   "execution_count": 23,
   "id": "f8893a29",
   "metadata": {},
   "outputs": [],
   "source": [
    "NEG_INFTY = -1e9\n",
    "\n",
    "def create_masks(eng_batch, kn_batch):\n",
    "    num_sentences = len(eng_batch)\n",
    "    look_ahead_mask = torch.full([max_sequence_length, max_sequence_length] , True)\n",
    "    look_ahead_mask = torch.triu(look_ahead_mask, diagonal=1)\n",
    "    encoder_padding_mask = torch.full([num_sentences, max_sequence_length, max_sequence_length] , False)\n",
    "    decoder_padding_mask_self_attention = torch.full([num_sentences, max_sequence_length, max_sequence_length] , False)\n",
    "    decoder_padding_mask_cross_attention = torch.full([num_sentences, max_sequence_length, max_sequence_length] , False)\n",
    "\n",
    "    for idx in range(num_sentences):\n",
    "      eng_sentence_length, kn_sentence_length = len(eng_batch[idx]), len(kn_batch[idx])\n",
    "      eng_chars_to_padding_mask = np.arange(eng_sentence_length + 1, max_sequence_length)\n",
    "      kn_chars_to_padding_mask = np.arange(kn_sentence_length + 1, max_sequence_length)\n",
    "      encoder_padding_mask[idx, :, eng_chars_to_padding_mask] = True\n",
    "      encoder_padding_mask[idx, eng_chars_to_padding_mask, :] = True\n",
    "      decoder_padding_mask_self_attention[idx, :, kn_chars_to_padding_mask] = True\n",
    "      decoder_padding_mask_self_attention[idx, kn_chars_to_padding_mask, :] = True\n",
    "      decoder_padding_mask_cross_attention[idx, :, eng_chars_to_padding_mask] = True\n",
    "      decoder_padding_mask_cross_attention[idx, kn_chars_to_padding_mask, :] = True\n",
    "\n",
    "    encoder_self_attention_mask = torch.where(encoder_padding_mask, NEG_INFTY, 0)\n",
    "    decoder_self_attention_mask =  torch.where(look_ahead_mask + decoder_padding_mask_self_attention, NEG_INFTY, 0)\n",
    "    decoder_cross_attention_mask = torch.where(decoder_padding_mask_cross_attention, NEG_INFTY, 0)\n",
    "    print(f\"encoder_self_attention_mask {encoder_self_attention_mask.size()}: {encoder_self_attention_mask[0, :10, :10]}\")\n",
    "    print(f\"decoder_self_attention_mask {decoder_self_attention_mask.size()}: {decoder_self_attention_mask[0, :10, :10]}\")\n",
    "    print(f\"decoder_cross_attention_mask {decoder_cross_attention_mask.size()}: {decoder_cross_attention_mask[0, :10, :10]}\")\n",
    "    return encoder_self_attention_mask, decoder_self_attention_mask, decoder_cross_attention_mask"
   ]
  },
  {
   "cell_type": "code",
   "execution_count": 24,
   "id": "11b50941",
   "metadata": {},
   "outputs": [
    {
     "name": "stdout",
     "output_type": "stream",
     "text": [
      "encoder_self_attention_mask torch.Size([16, 350, 350]): tensor([[0., 0., 0., 0., 0., 0., 0., 0., 0., 0.],\n",
      "        [0., 0., 0., 0., 0., 0., 0., 0., 0., 0.],\n",
      "        [0., 0., 0., 0., 0., 0., 0., 0., 0., 0.],\n",
      "        [0., 0., 0., 0., 0., 0., 0., 0., 0., 0.],\n",
      "        [0., 0., 0., 0., 0., 0., 0., 0., 0., 0.],\n",
      "        [0., 0., 0., 0., 0., 0., 0., 0., 0., 0.],\n",
      "        [0., 0., 0., 0., 0., 0., 0., 0., 0., 0.],\n",
      "        [0., 0., 0., 0., 0., 0., 0., 0., 0., 0.],\n",
      "        [0., 0., 0., 0., 0., 0., 0., 0., 0., 0.],\n",
      "        [0., 0., 0., 0., 0., 0., 0., 0., 0., 0.]])\n",
      "decoder_self_attention_mask torch.Size([16, 350, 350]): tensor([[ 0.0000e+00, -1.0000e+09, -1.0000e+09, -1.0000e+09, -1.0000e+09,\n",
      "         -1.0000e+09, -1.0000e+09, -1.0000e+09, -1.0000e+09, -1.0000e+09],\n",
      "        [ 0.0000e+00,  0.0000e+00, -1.0000e+09, -1.0000e+09, -1.0000e+09,\n",
      "         -1.0000e+09, -1.0000e+09, -1.0000e+09, -1.0000e+09, -1.0000e+09],\n",
      "        [ 0.0000e+00,  0.0000e+00,  0.0000e+00, -1.0000e+09, -1.0000e+09,\n",
      "         -1.0000e+09, -1.0000e+09, -1.0000e+09, -1.0000e+09, -1.0000e+09],\n",
      "        [ 0.0000e+00,  0.0000e+00,  0.0000e+00,  0.0000e+00, -1.0000e+09,\n",
      "         -1.0000e+09, -1.0000e+09, -1.0000e+09, -1.0000e+09, -1.0000e+09],\n",
      "        [ 0.0000e+00,  0.0000e+00,  0.0000e+00,  0.0000e+00,  0.0000e+00,\n",
      "         -1.0000e+09, -1.0000e+09, -1.0000e+09, -1.0000e+09, -1.0000e+09],\n",
      "        [ 0.0000e+00,  0.0000e+00,  0.0000e+00,  0.0000e+00,  0.0000e+00,\n",
      "          0.0000e+00, -1.0000e+09, -1.0000e+09, -1.0000e+09, -1.0000e+09],\n",
      "        [ 0.0000e+00,  0.0000e+00,  0.0000e+00,  0.0000e+00,  0.0000e+00,\n",
      "          0.0000e+00,  0.0000e+00, -1.0000e+09, -1.0000e+09, -1.0000e+09],\n",
      "        [ 0.0000e+00,  0.0000e+00,  0.0000e+00,  0.0000e+00,  0.0000e+00,\n",
      "          0.0000e+00,  0.0000e+00,  0.0000e+00, -1.0000e+09, -1.0000e+09],\n",
      "        [ 0.0000e+00,  0.0000e+00,  0.0000e+00,  0.0000e+00,  0.0000e+00,\n",
      "          0.0000e+00,  0.0000e+00,  0.0000e+00,  0.0000e+00, -1.0000e+09],\n",
      "        [ 0.0000e+00,  0.0000e+00,  0.0000e+00,  0.0000e+00,  0.0000e+00,\n",
      "          0.0000e+00,  0.0000e+00,  0.0000e+00,  0.0000e+00,  0.0000e+00]])\n",
      "decoder_cross_attention_mask torch.Size([16, 350, 350]): tensor([[0., 0., 0., 0., 0., 0., 0., 0., 0., 0.],\n",
      "        [0., 0., 0., 0., 0., 0., 0., 0., 0., 0.],\n",
      "        [0., 0., 0., 0., 0., 0., 0., 0., 0., 0.],\n",
      "        [0., 0., 0., 0., 0., 0., 0., 0., 0., 0.],\n",
      "        [0., 0., 0., 0., 0., 0., 0., 0., 0., 0.],\n",
      "        [0., 0., 0., 0., 0., 0., 0., 0., 0., 0.],\n",
      "        [0., 0., 0., 0., 0., 0., 0., 0., 0., 0.],\n",
      "        [0., 0., 0., 0., 0., 0., 0., 0., 0., 0.],\n",
      "        [0., 0., 0., 0., 0., 0., 0., 0., 0., 0.],\n",
      "        [0., 0., 0., 0., 0., 0., 0., 0., 0., 0.]])\n"
     ]
    },
    {
     "data": {
      "text/plain": [
       "(tensor([[[ 0.0000e+00,  0.0000e+00,  0.0000e+00,  ..., -1.0000e+09,\n",
       "           -1.0000e+09, -1.0000e+09],\n",
       "          [ 0.0000e+00,  0.0000e+00,  0.0000e+00,  ..., -1.0000e+09,\n",
       "           -1.0000e+09, -1.0000e+09],\n",
       "          [ 0.0000e+00,  0.0000e+00,  0.0000e+00,  ..., -1.0000e+09,\n",
       "           -1.0000e+09, -1.0000e+09],\n",
       "          ...,\n",
       "          [-1.0000e+09, -1.0000e+09, -1.0000e+09,  ..., -1.0000e+09,\n",
       "           -1.0000e+09, -1.0000e+09],\n",
       "          [-1.0000e+09, -1.0000e+09, -1.0000e+09,  ..., -1.0000e+09,\n",
       "           -1.0000e+09, -1.0000e+09],\n",
       "          [-1.0000e+09, -1.0000e+09, -1.0000e+09,  ..., -1.0000e+09,\n",
       "           -1.0000e+09, -1.0000e+09]],\n",
       " \n",
       "         [[ 0.0000e+00,  0.0000e+00,  0.0000e+00,  ..., -1.0000e+09,\n",
       "           -1.0000e+09, -1.0000e+09],\n",
       "          [ 0.0000e+00,  0.0000e+00,  0.0000e+00,  ..., -1.0000e+09,\n",
       "           -1.0000e+09, -1.0000e+09],\n",
       "          [ 0.0000e+00,  0.0000e+00,  0.0000e+00,  ..., -1.0000e+09,\n",
       "           -1.0000e+09, -1.0000e+09],\n",
       "          ...,\n",
       "          [-1.0000e+09, -1.0000e+09, -1.0000e+09,  ..., -1.0000e+09,\n",
       "           -1.0000e+09, -1.0000e+09],\n",
       "          [-1.0000e+09, -1.0000e+09, -1.0000e+09,  ..., -1.0000e+09,\n",
       "           -1.0000e+09, -1.0000e+09],\n",
       "          [-1.0000e+09, -1.0000e+09, -1.0000e+09,  ..., -1.0000e+09,\n",
       "           -1.0000e+09, -1.0000e+09]],\n",
       " \n",
       "         [[ 0.0000e+00,  0.0000e+00,  0.0000e+00,  ..., -1.0000e+09,\n",
       "           -1.0000e+09, -1.0000e+09],\n",
       "          [ 0.0000e+00,  0.0000e+00,  0.0000e+00,  ..., -1.0000e+09,\n",
       "           -1.0000e+09, -1.0000e+09],\n",
       "          [ 0.0000e+00,  0.0000e+00,  0.0000e+00,  ..., -1.0000e+09,\n",
       "           -1.0000e+09, -1.0000e+09],\n",
       "          ...,\n",
       "          [-1.0000e+09, -1.0000e+09, -1.0000e+09,  ..., -1.0000e+09,\n",
       "           -1.0000e+09, -1.0000e+09],\n",
       "          [-1.0000e+09, -1.0000e+09, -1.0000e+09,  ..., -1.0000e+09,\n",
       "           -1.0000e+09, -1.0000e+09],\n",
       "          [-1.0000e+09, -1.0000e+09, -1.0000e+09,  ..., -1.0000e+09,\n",
       "           -1.0000e+09, -1.0000e+09]],\n",
       " \n",
       "         ...,\n",
       " \n",
       "         [[ 0.0000e+00,  0.0000e+00,  0.0000e+00,  ..., -1.0000e+09,\n",
       "           -1.0000e+09, -1.0000e+09],\n",
       "          [ 0.0000e+00,  0.0000e+00,  0.0000e+00,  ..., -1.0000e+09,\n",
       "           -1.0000e+09, -1.0000e+09],\n",
       "          [ 0.0000e+00,  0.0000e+00,  0.0000e+00,  ..., -1.0000e+09,\n",
       "           -1.0000e+09, -1.0000e+09],\n",
       "          ...,\n",
       "          [-1.0000e+09, -1.0000e+09, -1.0000e+09,  ..., -1.0000e+09,\n",
       "           -1.0000e+09, -1.0000e+09],\n",
       "          [-1.0000e+09, -1.0000e+09, -1.0000e+09,  ..., -1.0000e+09,\n",
       "           -1.0000e+09, -1.0000e+09],\n",
       "          [-1.0000e+09, -1.0000e+09, -1.0000e+09,  ..., -1.0000e+09,\n",
       "           -1.0000e+09, -1.0000e+09]],\n",
       " \n",
       "         [[ 0.0000e+00,  0.0000e+00,  0.0000e+00,  ..., -1.0000e+09,\n",
       "           -1.0000e+09, -1.0000e+09],\n",
       "          [ 0.0000e+00,  0.0000e+00,  0.0000e+00,  ..., -1.0000e+09,\n",
       "           -1.0000e+09, -1.0000e+09],\n",
       "          [ 0.0000e+00,  0.0000e+00,  0.0000e+00,  ..., -1.0000e+09,\n",
       "           -1.0000e+09, -1.0000e+09],\n",
       "          ...,\n",
       "          [-1.0000e+09, -1.0000e+09, -1.0000e+09,  ..., -1.0000e+09,\n",
       "           -1.0000e+09, -1.0000e+09],\n",
       "          [-1.0000e+09, -1.0000e+09, -1.0000e+09,  ..., -1.0000e+09,\n",
       "           -1.0000e+09, -1.0000e+09],\n",
       "          [-1.0000e+09, -1.0000e+09, -1.0000e+09,  ..., -1.0000e+09,\n",
       "           -1.0000e+09, -1.0000e+09]],\n",
       " \n",
       "         [[ 0.0000e+00,  0.0000e+00,  0.0000e+00,  ..., -1.0000e+09,\n",
       "           -1.0000e+09, -1.0000e+09],\n",
       "          [ 0.0000e+00,  0.0000e+00,  0.0000e+00,  ..., -1.0000e+09,\n",
       "           -1.0000e+09, -1.0000e+09],\n",
       "          [ 0.0000e+00,  0.0000e+00,  0.0000e+00,  ..., -1.0000e+09,\n",
       "           -1.0000e+09, -1.0000e+09],\n",
       "          ...,\n",
       "          [-1.0000e+09, -1.0000e+09, -1.0000e+09,  ..., -1.0000e+09,\n",
       "           -1.0000e+09, -1.0000e+09],\n",
       "          [-1.0000e+09, -1.0000e+09, -1.0000e+09,  ..., -1.0000e+09,\n",
       "           -1.0000e+09, -1.0000e+09],\n",
       "          [-1.0000e+09, -1.0000e+09, -1.0000e+09,  ..., -1.0000e+09,\n",
       "           -1.0000e+09, -1.0000e+09]]]),\n",
       " tensor([[[ 0.0000e+00, -1.0000e+09, -1.0000e+09,  ..., -1.0000e+09,\n",
       "           -1.0000e+09, -1.0000e+09],\n",
       "          [ 0.0000e+00,  0.0000e+00, -1.0000e+09,  ..., -1.0000e+09,\n",
       "           -1.0000e+09, -1.0000e+09],\n",
       "          [ 0.0000e+00,  0.0000e+00,  0.0000e+00,  ..., -1.0000e+09,\n",
       "           -1.0000e+09, -1.0000e+09],\n",
       "          ...,\n",
       "          [-1.0000e+09, -1.0000e+09, -1.0000e+09,  ..., -1.0000e+09,\n",
       "           -1.0000e+09, -1.0000e+09],\n",
       "          [-1.0000e+09, -1.0000e+09, -1.0000e+09,  ..., -1.0000e+09,\n",
       "           -1.0000e+09, -1.0000e+09],\n",
       "          [-1.0000e+09, -1.0000e+09, -1.0000e+09,  ..., -1.0000e+09,\n",
       "           -1.0000e+09, -1.0000e+09]],\n",
       " \n",
       "         [[ 0.0000e+00, -1.0000e+09, -1.0000e+09,  ..., -1.0000e+09,\n",
       "           -1.0000e+09, -1.0000e+09],\n",
       "          [ 0.0000e+00,  0.0000e+00, -1.0000e+09,  ..., -1.0000e+09,\n",
       "           -1.0000e+09, -1.0000e+09],\n",
       "          [ 0.0000e+00,  0.0000e+00,  0.0000e+00,  ..., -1.0000e+09,\n",
       "           -1.0000e+09, -1.0000e+09],\n",
       "          ...,\n",
       "          [-1.0000e+09, -1.0000e+09, -1.0000e+09,  ..., -1.0000e+09,\n",
       "           -1.0000e+09, -1.0000e+09],\n",
       "          [-1.0000e+09, -1.0000e+09, -1.0000e+09,  ..., -1.0000e+09,\n",
       "           -1.0000e+09, -1.0000e+09],\n",
       "          [-1.0000e+09, -1.0000e+09, -1.0000e+09,  ..., -1.0000e+09,\n",
       "           -1.0000e+09, -1.0000e+09]],\n",
       " \n",
       "         [[ 0.0000e+00, -1.0000e+09, -1.0000e+09,  ..., -1.0000e+09,\n",
       "           -1.0000e+09, -1.0000e+09],\n",
       "          [ 0.0000e+00,  0.0000e+00, -1.0000e+09,  ..., -1.0000e+09,\n",
       "           -1.0000e+09, -1.0000e+09],\n",
       "          [ 0.0000e+00,  0.0000e+00,  0.0000e+00,  ..., -1.0000e+09,\n",
       "           -1.0000e+09, -1.0000e+09],\n",
       "          ...,\n",
       "          [-1.0000e+09, -1.0000e+09, -1.0000e+09,  ..., -1.0000e+09,\n",
       "           -1.0000e+09, -1.0000e+09],\n",
       "          [-1.0000e+09, -1.0000e+09, -1.0000e+09,  ..., -1.0000e+09,\n",
       "           -1.0000e+09, -1.0000e+09],\n",
       "          [-1.0000e+09, -1.0000e+09, -1.0000e+09,  ..., -1.0000e+09,\n",
       "           -1.0000e+09, -1.0000e+09]],\n",
       " \n",
       "         ...,\n",
       " \n",
       "         [[ 0.0000e+00, -1.0000e+09, -1.0000e+09,  ..., -1.0000e+09,\n",
       "           -1.0000e+09, -1.0000e+09],\n",
       "          [ 0.0000e+00,  0.0000e+00, -1.0000e+09,  ..., -1.0000e+09,\n",
       "           -1.0000e+09, -1.0000e+09],\n",
       "          [ 0.0000e+00,  0.0000e+00,  0.0000e+00,  ..., -1.0000e+09,\n",
       "           -1.0000e+09, -1.0000e+09],\n",
       "          ...,\n",
       "          [-1.0000e+09, -1.0000e+09, -1.0000e+09,  ..., -1.0000e+09,\n",
       "           -1.0000e+09, -1.0000e+09],\n",
       "          [-1.0000e+09, -1.0000e+09, -1.0000e+09,  ..., -1.0000e+09,\n",
       "           -1.0000e+09, -1.0000e+09],\n",
       "          [-1.0000e+09, -1.0000e+09, -1.0000e+09,  ..., -1.0000e+09,\n",
       "           -1.0000e+09, -1.0000e+09]],\n",
       " \n",
       "         [[ 0.0000e+00, -1.0000e+09, -1.0000e+09,  ..., -1.0000e+09,\n",
       "           -1.0000e+09, -1.0000e+09],\n",
       "          [ 0.0000e+00,  0.0000e+00, -1.0000e+09,  ..., -1.0000e+09,\n",
       "           -1.0000e+09, -1.0000e+09],\n",
       "          [ 0.0000e+00,  0.0000e+00,  0.0000e+00,  ..., -1.0000e+09,\n",
       "           -1.0000e+09, -1.0000e+09],\n",
       "          ...,\n",
       "          [-1.0000e+09, -1.0000e+09, -1.0000e+09,  ..., -1.0000e+09,\n",
       "           -1.0000e+09, -1.0000e+09],\n",
       "          [-1.0000e+09, -1.0000e+09, -1.0000e+09,  ..., -1.0000e+09,\n",
       "           -1.0000e+09, -1.0000e+09],\n",
       "          [-1.0000e+09, -1.0000e+09, -1.0000e+09,  ..., -1.0000e+09,\n",
       "           -1.0000e+09, -1.0000e+09]],\n",
       " \n",
       "         [[ 0.0000e+00, -1.0000e+09, -1.0000e+09,  ..., -1.0000e+09,\n",
       "           -1.0000e+09, -1.0000e+09],\n",
       "          [ 0.0000e+00,  0.0000e+00, -1.0000e+09,  ..., -1.0000e+09,\n",
       "           -1.0000e+09, -1.0000e+09],\n",
       "          [ 0.0000e+00,  0.0000e+00,  0.0000e+00,  ..., -1.0000e+09,\n",
       "           -1.0000e+09, -1.0000e+09],\n",
       "          ...,\n",
       "          [-1.0000e+09, -1.0000e+09, -1.0000e+09,  ..., -1.0000e+09,\n",
       "           -1.0000e+09, -1.0000e+09],\n",
       "          [-1.0000e+09, -1.0000e+09, -1.0000e+09,  ..., -1.0000e+09,\n",
       "           -1.0000e+09, -1.0000e+09],\n",
       "          [-1.0000e+09, -1.0000e+09, -1.0000e+09,  ..., -1.0000e+09,\n",
       "           -1.0000e+09, -1.0000e+09]]]),\n",
       " tensor([[[ 0.0000e+00,  0.0000e+00,  0.0000e+00,  ..., -1.0000e+09,\n",
       "           -1.0000e+09, -1.0000e+09],\n",
       "          [ 0.0000e+00,  0.0000e+00,  0.0000e+00,  ..., -1.0000e+09,\n",
       "           -1.0000e+09, -1.0000e+09],\n",
       "          [ 0.0000e+00,  0.0000e+00,  0.0000e+00,  ..., -1.0000e+09,\n",
       "           -1.0000e+09, -1.0000e+09],\n",
       "          ...,\n",
       "          [-1.0000e+09, -1.0000e+09, -1.0000e+09,  ..., -1.0000e+09,\n",
       "           -1.0000e+09, -1.0000e+09],\n",
       "          [-1.0000e+09, -1.0000e+09, -1.0000e+09,  ..., -1.0000e+09,\n",
       "           -1.0000e+09, -1.0000e+09],\n",
       "          [-1.0000e+09, -1.0000e+09, -1.0000e+09,  ..., -1.0000e+09,\n",
       "           -1.0000e+09, -1.0000e+09]],\n",
       " \n",
       "         [[ 0.0000e+00,  0.0000e+00,  0.0000e+00,  ..., -1.0000e+09,\n",
       "           -1.0000e+09, -1.0000e+09],\n",
       "          [ 0.0000e+00,  0.0000e+00,  0.0000e+00,  ..., -1.0000e+09,\n",
       "           -1.0000e+09, -1.0000e+09],\n",
       "          [ 0.0000e+00,  0.0000e+00,  0.0000e+00,  ..., -1.0000e+09,\n",
       "           -1.0000e+09, -1.0000e+09],\n",
       "          ...,\n",
       "          [-1.0000e+09, -1.0000e+09, -1.0000e+09,  ..., -1.0000e+09,\n",
       "           -1.0000e+09, -1.0000e+09],\n",
       "          [-1.0000e+09, -1.0000e+09, -1.0000e+09,  ..., -1.0000e+09,\n",
       "           -1.0000e+09, -1.0000e+09],\n",
       "          [-1.0000e+09, -1.0000e+09, -1.0000e+09,  ..., -1.0000e+09,\n",
       "           -1.0000e+09, -1.0000e+09]],\n",
       " \n",
       "         [[ 0.0000e+00,  0.0000e+00,  0.0000e+00,  ..., -1.0000e+09,\n",
       "           -1.0000e+09, -1.0000e+09],\n",
       "          [ 0.0000e+00,  0.0000e+00,  0.0000e+00,  ..., -1.0000e+09,\n",
       "           -1.0000e+09, -1.0000e+09],\n",
       "          [ 0.0000e+00,  0.0000e+00,  0.0000e+00,  ..., -1.0000e+09,\n",
       "           -1.0000e+09, -1.0000e+09],\n",
       "          ...,\n",
       "          [-1.0000e+09, -1.0000e+09, -1.0000e+09,  ..., -1.0000e+09,\n",
       "           -1.0000e+09, -1.0000e+09],\n",
       "          [-1.0000e+09, -1.0000e+09, -1.0000e+09,  ..., -1.0000e+09,\n",
       "           -1.0000e+09, -1.0000e+09],\n",
       "          [-1.0000e+09, -1.0000e+09, -1.0000e+09,  ..., -1.0000e+09,\n",
       "           -1.0000e+09, -1.0000e+09]],\n",
       " \n",
       "         ...,\n",
       " \n",
       "         [[ 0.0000e+00,  0.0000e+00,  0.0000e+00,  ..., -1.0000e+09,\n",
       "           -1.0000e+09, -1.0000e+09],\n",
       "          [ 0.0000e+00,  0.0000e+00,  0.0000e+00,  ..., -1.0000e+09,\n",
       "           -1.0000e+09, -1.0000e+09],\n",
       "          [ 0.0000e+00,  0.0000e+00,  0.0000e+00,  ..., -1.0000e+09,\n",
       "           -1.0000e+09, -1.0000e+09],\n",
       "          ...,\n",
       "          [-1.0000e+09, -1.0000e+09, -1.0000e+09,  ..., -1.0000e+09,\n",
       "           -1.0000e+09, -1.0000e+09],\n",
       "          [-1.0000e+09, -1.0000e+09, -1.0000e+09,  ..., -1.0000e+09,\n",
       "           -1.0000e+09, -1.0000e+09],\n",
       "          [-1.0000e+09, -1.0000e+09, -1.0000e+09,  ..., -1.0000e+09,\n",
       "           -1.0000e+09, -1.0000e+09]],\n",
       " \n",
       "         [[ 0.0000e+00,  0.0000e+00,  0.0000e+00,  ..., -1.0000e+09,\n",
       "           -1.0000e+09, -1.0000e+09],\n",
       "          [ 0.0000e+00,  0.0000e+00,  0.0000e+00,  ..., -1.0000e+09,\n",
       "           -1.0000e+09, -1.0000e+09],\n",
       "          [ 0.0000e+00,  0.0000e+00,  0.0000e+00,  ..., -1.0000e+09,\n",
       "           -1.0000e+09, -1.0000e+09],\n",
       "          ...,\n",
       "          [-1.0000e+09, -1.0000e+09, -1.0000e+09,  ..., -1.0000e+09,\n",
       "           -1.0000e+09, -1.0000e+09],\n",
       "          [-1.0000e+09, -1.0000e+09, -1.0000e+09,  ..., -1.0000e+09,\n",
       "           -1.0000e+09, -1.0000e+09],\n",
       "          [-1.0000e+09, -1.0000e+09, -1.0000e+09,  ..., -1.0000e+09,\n",
       "           -1.0000e+09, -1.0000e+09]],\n",
       " \n",
       "         [[ 0.0000e+00,  0.0000e+00,  0.0000e+00,  ..., -1.0000e+09,\n",
       "           -1.0000e+09, -1.0000e+09],\n",
       "          [ 0.0000e+00,  0.0000e+00,  0.0000e+00,  ..., -1.0000e+09,\n",
       "           -1.0000e+09, -1.0000e+09],\n",
       "          [ 0.0000e+00,  0.0000e+00,  0.0000e+00,  ..., -1.0000e+09,\n",
       "           -1.0000e+09, -1.0000e+09],\n",
       "          ...,\n",
       "          [-1.0000e+09, -1.0000e+09, -1.0000e+09,  ..., -1.0000e+09,\n",
       "           -1.0000e+09, -1.0000e+09],\n",
       "          [-1.0000e+09, -1.0000e+09, -1.0000e+09,  ..., -1.0000e+09,\n",
       "           -1.0000e+09, -1.0000e+09],\n",
       "          [-1.0000e+09, -1.0000e+09, -1.0000e+09,  ..., -1.0000e+09,\n",
       "           -1.0000e+09, -1.0000e+09]]]))"
      ]
     },
     "execution_count": 24,
     "metadata": {},
     "output_type": "execute_result"
    }
   ],
   "source": [
    "create_masks(batch[0], batch[1])"
   ]
  },
  {
   "cell_type": "markdown",
   "id": "11b2fbb5",
   "metadata": {},
   "source": [
    "# Class"
   ]
  },
  {
   "cell_type": "code",
   "execution_count": 25,
   "id": "b22d600f",
   "metadata": {},
   "outputs": [],
   "source": [
    "from torch import nn"
   ]
  },
  {
   "cell_type": "code",
   "execution_count": 26,
   "id": "9763b025",
   "metadata": {},
   "outputs": [],
   "source": [
    "class SentenceEmbedding(nn.Module):\n",
    "    \"For a given sentence, create an embedding\"\n",
    "    def __init__(self, max_sequence_length, d_model, language_to_index, START_TOKEN, END_TOKEN, PADDING_TOKEN):\n",
    "        super().__init__()\n",
    "        self.vocab_size = len(language_to_index)\n",
    "        self.max_sequence_length = max_sequence_length\n",
    "        self.embedding = nn.Embedding(self.vocab_size, d_model)\n",
    "        self.language_to_index = language_to_index\n",
    "        self.position_encoder = PositionalEncoding(d_model, max_sequence_length)\n",
    "        self.dropout = nn.Dropout(p=0.1)\n",
    "        self.START_TOKEN = START_TOKEN\n",
    "        self.END_TOKEN = END_TOKEN\n",
    "        self.PADDING_TOKEN = PADDING_TOKEN\n",
    "    \n",
    "    def batch_tokenize(self, batch, start_token=True, end_token=True):\n",
    "\n",
    "        def tokenize(sentence, start_token=True, end_token=True):\n",
    "            sentence_word_indicies = [self.language_to_index[token] for token in list(sentence)]\n",
    "            if start_token:\n",
    "                sentence_word_indicies.insert(0, self.language_to_index[self.START_TOKEN])\n",
    "            if end_token:\n",
    "                sentence_word_indicies.append(self.language_to_index[self.END_TOKEN])\n",
    "            for _ in range(len(sentence_word_indicies), self.max_sequence_length):\n",
    "                sentence_word_indicies.append(self.language_to_index[self.PADDING_TOKEN])\n",
    "            return torch.tensor(sentence_word_indicies)\n",
    "\n",
    "        tokenized = []\n",
    "        for sentence_num in range(len(batch)):\n",
    "            tokenized.append( tokenize(batch[sentence_num], start_token, end_token) )\n",
    "        tokenized = torch.stack(tokenized)\n",
    "        return tokenized.to(get_device())\n",
    "    \n",
    "    def forward(self, x, end_token=True): # sentence\n",
    "        x = self.batch_tokenize(x ,end_token)\n",
    "        x = self.embedding(x)\n",
    "        pos = self.position_encoder().to(get_device())\n",
    "        x = self.dropout(x + pos)\n",
    "        return x"
   ]
  },
  {
   "cell_type": "code",
   "execution_count": null,
   "id": "2c6aeaf4",
   "metadata": {},
   "outputs": [],
   "source": []
  }
 ],
 "metadata": {
  "kernelspec": {
   "display_name": "Python 3 (ipykernel)",
   "language": "python",
   "name": "python3"
  },
  "language_info": {
   "codemirror_mode": {
    "name": "ipython",
    "version": 3
   },
   "file_extension": ".py",
   "mimetype": "text/x-python",
   "name": "python",
   "nbconvert_exporter": "python",
   "pygments_lexer": "ipython3",
   "version": "3.10.9"
  }
 },
 "nbformat": 4,
 "nbformat_minor": 5
}
