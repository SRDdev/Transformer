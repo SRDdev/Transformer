{
 "cells": [
  {
   "cell_type": "markdown",
   "id": "b2294b39",
   "metadata": {},
   "source": [
    "# Self Attention\n",
    "\n",
    "Self-attention is a mechanism used in neural networks for processing sequential data, such as natural language text. It allows the network to weigh the importance of different input tokens while processing each token, based on their relationships with other tokens in the sequence. This can improve the network's ability to capture long-range dependencies and improve performance on tasks such as language modeling, machine translation, and summarization\n",
    "\n",
    "#### The self attention logic consists of 3 main components\n",
    "\n",
    "Query vector : What I am looking for ? [$sequence_{length}$ x $d_k$]\n",
    "\n",
    "Key vector : What I can offer ? [$sequence_{length}$ x $d_k$]\n",
    "\n",
    "Value vector : What I actually offer ? [$sequence_{length}$ x $d_v$]"
   ]
  },
  {
   "cell_type": "code",
   "execution_count": 1,
   "id": "aa3849da",
   "metadata": {},
   "outputs": [],
   "source": [
    "import numpy as np\n",
    "import math"
   ]
  },
  {
   "cell_type": "code",
   "execution_count": 2,
   "id": "7fd457e5",
   "metadata": {},
   "outputs": [],
   "source": [
    "L = 4            #sequence length\n",
    "d_k = 8          #Key vector depth\n",
    "d_v = 8          #Value vector depth"
   ]
  },
  {
   "cell_type": "markdown",
   "id": "c84bb950",
   "metadata": {},
   "source": [
    "Now we will randomly initialize these vectors , but remember these are going to be your input vectors, this means they wont be random and each of them will have certain meaning of itself."
   ]
  },
  {
   "cell_type": "code",
   "execution_count": 3,
   "id": "77977f87",
   "metadata": {},
   "outputs": [
    {
     "name": "stdout",
     "output_type": "stream",
     "text": [
      "Q\n",
      " [[7.52693105e-01 8.41580563e-03 3.31019286e-04 8.97157650e-01\n",
      "  4.56170924e-02 5.70429534e-01 3.67254418e-01 5.02569250e-01]\n",
      " [7.23369714e-01 6.19765185e-01 3.98904336e-01 8.61107423e-01\n",
      "  1.46284758e-01 3.90607989e-01 9.91994667e-01 5.65312292e-01]\n",
      " [6.39388865e-01 1.30754719e-01 6.21434922e-01 9.79058090e-01\n",
      "  7.48285994e-01 1.11900671e-01 9.96873555e-01 2.78966113e-01]\n",
      " [5.60582814e-01 5.22478141e-01 3.50465399e-01 6.33301196e-01\n",
      "  9.58188269e-01 3.44813768e-01 9.95591738e-01 6.79213608e-01]]\n",
      "K\n",
      " [[0.36940241 0.04758322 0.83227899 0.58179784 0.76644583 0.41606289\n",
      "  0.78130063 0.83697154]\n",
      " [0.31768957 0.63863752 0.71029805 0.74194598 0.12293787 0.39578146\n",
      "  0.60758719 0.66235779]\n",
      " [0.37980848 0.40041257 0.58743129 0.976559   0.02782404 0.55686997\n",
      "  0.43654198 0.30334982]\n",
      " [0.76736693 0.45626942 0.1207564  0.72951051 0.59864137 0.73650732\n",
      "  0.36305381 0.58976947]]\n",
      "V\n",
      " [[0.16361751 0.73154278 0.21663838 0.03725605 0.60247861 0.3641873\n",
      "  0.7826611  0.78808985]\n",
      " [0.8367454  0.54962405 0.82972723 0.16829955 0.5312548  0.31692946\n",
      "  0.36066661 0.970084  ]\n",
      " [0.56723548 0.28215378 0.7706862  0.81459851 0.01785379 0.89145555\n",
      "  0.4117529  0.13103037]\n",
      " [0.32207899 0.41790658 0.48395884 0.42849255 0.45288638 0.6980004\n",
      "  0.52085796 0.9508095 ]]\n"
     ]
    }
   ],
   "source": [
    "q = np.random.rand(L, d_k)\n",
    "k = np.random.rand(L, d_k)\n",
    "v = np.random.rand(L, d_v)\n",
    "print(\"Q\\n\", q)\n",
    "print(\"K\\n\", k)\n",
    "print(\"V\\n\", v)"
   ]
  },
  {
   "cell_type": "markdown",
   "id": "537133f2",
   "metadata": {},
   "source": [
    "##### The Self Attention Equation is given\n",
    "\n",
    "$$Self-Attention = softmax(\\frac{Q.K^T}{\\sqrt(d_k)}+M)V$$\n",
    "\n",
    "\n",
    "The `Q.K^T` operation can be thought of as a similarity measure between the query and key vectors. The dot product of two vectors measures the **cosine similarity** between them, which ranges from -1 (opposite directions) to 1 (same direction). \n",
    "\n",
    "The $\\sqrt d_k$ is included in the equation to reduce the variance of the cosine similarity calculated above."
   ]
  },
  {
   "cell_type": "code",
   "execution_count": 4,
   "id": "1cc06ab7",
   "metadata": {},
   "outputs": [
    {
     "data": {
      "text/plain": [
       "(0.09167661500062436, 0.05696953752983293, 0.16287550475168971)"
      ]
     },
     "execution_count": 4,
     "metadata": {},
     "output_type": "execute_result"
    }
   ],
   "source": [
    "#Lets check the variance\n",
    "q.var() , k.var() , np.matmul(q,k.T).var()"
   ]
  },
  {
   "cell_type": "code",
   "execution_count": 5,
   "id": "02bc0cce",
   "metadata": {},
   "outputs": [
    {
     "data": {
      "text/plain": [
       "(0.09167661500062436, 0.05696953752983293, 0.020359438093961214)"
      ]
     },
     "execution_count": 5,
     "metadata": {},
     "output_type": "execute_result"
    }
   ],
   "source": [
    "#Lets check the variance after normalization\n",
    "scaled = np.matmul(q, k.T) / math.sqrt(d_k)\n",
    "q.var(), k.var(), scaled.var()"
   ]
  },
  {
   "cell_type": "code",
   "execution_count": 6,
   "id": "431c9592",
   "metadata": {},
   "outputs": [
    {
     "data": {
      "text/plain": [
       "array([[0.62952191, 0.60025173, 0.63543141, 0.74710233],\n",
       "       [0.93781036, 0.95374212, 0.85711157, 0.9132412 ],\n",
       "       [1.04710411, 0.84187715, 0.78463941, 0.84725383],\n",
       "       [1.10177229, 0.89789669, 0.74450752, 0.97668635]])"
      ]
     },
     "execution_count": 6,
     "metadata": {},
     "output_type": "execute_result"
    }
   ],
   "source": [
    "#Understaning the scaled dot product \n",
    "scaled"
   ]
  },
  {
   "cell_type": "markdown",
   "id": "7d8202f9",
   "metadata": {},
   "source": [
    "### Masking\n",
    "\n",
    "This is generally required in the decoder part of the Transformer Architecture. This is to ensure words dont get context from words generated in the future. Not used in encoders.\n",
    "\n",
    "The generated mask is a upper trangular mask. Continuing the last example if the 1st row is a vector for My , \n",
    "them My is only allowed to look at My and no other word.\n",
    "Similarly as you will notice , Name which is represented by the second row is only alloed to view My & Name \n",
    "for predicting the next word in the sequence.\n",
    " "
   ]
  },
  {
   "cell_type": "code",
   "execution_count": 7,
   "id": "225782c1",
   "metadata": {},
   "outputs": [
    {
     "data": {
      "text/plain": [
       "array([[1., 0., 0., 0.],\n",
       "       [1., 1., 0., 0.],\n",
       "       [1., 1., 1., 0.],\n",
       "       [1., 1., 1., 1.]])"
      ]
     },
     "execution_count": 7,
     "metadata": {},
     "output_type": "execute_result"
    }
   ],
   "source": [
    "mask = np.tril(np.ones( (L, L) ))\n",
    "mask"
   ]
  },
  {
   "cell_type": "markdown",
   "id": "29ceac22",
   "metadata": {},
   "source": [
    "Now a slight update to the original mask is to replace the 0 → - $\\infin$  and 1→ 0. This is then applied to the scaled calculations we did earlier."
   ]
  },
  {
   "cell_type": "code",
   "execution_count": 8,
   "id": "211b6d5f",
   "metadata": {},
   "outputs": [
    {
     "data": {
      "text/plain": [
       "array([[0.62952191,       -inf,       -inf,       -inf],\n",
       "       [0.93781036, 0.95374212,       -inf,       -inf],\n",
       "       [1.04710411, 0.84187715, 0.78463941,       -inf],\n",
       "       [1.10177229, 0.89789669, 0.74450752, 0.97668635]])"
      ]
     },
     "execution_count": 8,
     "metadata": {},
     "output_type": "execute_result"
    }
   ],
   "source": [
    "mask[mask == 0] = -np.infty\n",
    "mask[mask == 1] = 0\n",
    "scaled+mask"
   ]
  },
  {
   "cell_type": "markdown",
   "id": "07b87e6f",
   "metadata": {},
   "source": [
    "### SoftMax\n",
    "\n",
    "It is used to convert a output vector into a probability distribution. This allows the sum of all the values in the output to sum up to 1. Allowing no value in the output to go beyond the probability of 100%.\n",
    "\n",
    "$$softmax = \\frac{e^{x_i}}{\\sum_je^x_j}$$"
   ]
  },
  {
   "cell_type": "code",
   "execution_count": 9,
   "id": "9406830d",
   "metadata": {},
   "outputs": [
    {
     "data": {
      "text/plain": [
       "array([[1.        , 0.        , 0.        , 0.        ],\n",
       "       [0.49601715, 0.50398285, 0.        , 0.        ],\n",
       "       [0.38705443, 0.3152413 , 0.29770428, 0.        ],\n",
       "       [0.29432782, 0.24004312, 0.20590799, 0.25972107]])"
      ]
     },
     "execution_count": 9,
     "metadata": {},
     "output_type": "execute_result"
    }
   ],
   "source": [
    "def softmax(x):\n",
    "    return (np.exp(x).T / np.sum(np.exp(x) , axis=1)).T\n",
    "\n",
    "attention = softmax(scaled+mask)\n",
    "attention"
   ]
  },
  {
   "cell_type": "markdown",
   "id": "a401ada2",
   "metadata": {},
   "source": [
    "Now by multiplying the attention matrix with the Value matrix, we generate a new matrix which tells the model which vectors are important to predict which output vectors."
   ]
  },
  {
   "cell_type": "code",
   "execution_count": 10,
   "id": "03823731",
   "metadata": {},
   "outputs": [
    {
     "data": {
      "text/plain": [
       "array([[0.16361751, 0.73154278, 0.21663838, 0.03725605, 0.60247861,\n",
       "        0.3641873 , 0.7826611 , 0.78808985],\n",
       "       [0.50286243, 0.63985886, 0.52562465, 0.10329973, 0.56658303,\n",
       "        0.34037016, 0.56998312, 0.87981178],\n",
       "       [0.49597402, 0.54040945, 0.57485171, 0.30998455, 0.40598061,\n",
       "        0.50625969, 0.53921006, 0.6498525 ],\n",
       "       [0.44946118, 0.51388372, 0.54731777, 0.33038552, 0.42615065,\n",
       "        0.54811042, 0.53699548, 0.73874422]])"
      ]
     },
     "execution_count": 10,
     "metadata": {},
     "output_type": "execute_result"
    }
   ],
   "source": [
    "new_v = np.matmul(attention, v)\n",
    "new_v"
   ]
  },
  {
   "cell_type": "code",
   "execution_count": 11,
   "id": "4932e405",
   "metadata": {},
   "outputs": [
    {
     "data": {
      "text/plain": [
       "array([0.16361751, 0.73154278, 0.21663838, 0.03725605, 0.60247861,\n",
       "       0.3641873 , 0.7826611 , 0.78808985])"
      ]
     },
     "execution_count": 11,
     "metadata": {},
     "output_type": "execute_result"
    }
   ],
   "source": [
    "new_v[0]"
   ]
  },
  {
   "cell_type": "markdown",
   "id": "535c05d7",
   "metadata": {},
   "source": [
    "This `new_v` is the probabilities output of which means each row's sum is 1"
   ]
  },
  {
   "cell_type": "markdown",
   "id": "4cfa55fb",
   "metadata": {},
   "source": [
    "# Self Attention by Example"
   ]
  },
  {
   "cell_type": "code",
   "execution_count": 12,
   "id": "fd85e977",
   "metadata": {},
   "outputs": [],
   "source": [
    "import numpy as np\n",
    "import matplotlib.pyplot as plt"
   ]
  },
  {
   "cell_type": "code",
   "execution_count": 16,
   "id": "8f7ab0ba",
   "metadata": {},
   "outputs": [],
   "source": [
    "def plot_attention(attention_weights, sentence):\n",
    "    # Plot the attention weights\n",
    "    fig = plt.figure(figsize=(10, 10))\n",
    "    ax = fig.add_subplot(1, 1, 1)\n",
    "    cax = ax.matshow(attention_weights, cmap='viridis')\n",
    "\n",
    "#     # Set up axes\n",
    "    ax.set_xticklabels([''] + sentence, rotation=90)\n",
    "    ax.set_yticklabels([''] + sentence)\n",
    "\n",
    "    # Show the plot\n",
    "    fig.colorbar(cax)\n",
    "    plt.show()"
   ]
  },
  {
   "cell_type": "code",
   "execution_count": 19,
   "id": "8232f5b5",
   "metadata": {},
   "outputs": [
    {
     "name": "stdout",
     "output_type": "stream",
     "text": [
      "[[ 0.00781989  0.61610943 -0.11527669 -0.4038552 ]\n",
      " [ 0.49752266  0.24294984 -1.17561012  0.78825445]\n",
      " [ 0.04239852  0.73203998  0.88182052  1.12598537]\n",
      " [-0.01200612  1.42462384  0.25916121 -0.10589021]]\n"
     ]
    }
   ],
   "source": [
    "sentence = [\"My\",\"Name\",\"is\",\"Shreyas\"]\n",
    "num_words = len(sentence)\n",
    "attention_weights = np.random.randn(num_words,num_words)\n",
    "print(attention_weights)"
   ]
  },
  {
   "cell_type": "markdown",
   "id": "29dc3d5c",
   "metadata": {},
   "source": [
    "The given sentence now needs to be converted into a vector using anyone of the Encoding techniques. We will not dive into that in this tutorial"
   ]
  },
  {
   "cell_type": "code",
   "execution_count": 20,
   "id": "c4cab904",
   "metadata": {},
   "outputs": [
    {
     "name": "stderr",
     "output_type": "stream",
     "text": [
      "C:\\Users\\LENOVO\\AppData\\Local\\Temp\\ipykernel_9824\\3028894915.py:8: UserWarning: FixedFormatter should only be used together with FixedLocator\n",
      "  ax.set_xticklabels([''] + sentence, rotation=90)\n",
      "C:\\Users\\LENOVO\\AppData\\Local\\Temp\\ipykernel_9824\\3028894915.py:9: UserWarning: FixedFormatter should only be used together with FixedLocator\n",
      "  ax.set_yticklabels([''] + sentence)\n"
     ]
    },
    {
     "data": {
      "image/png": "[encoded data removed]",
      "text/plain": [
       "<Figure size 720x720 with 2 Axes>"
      ]
     },
     "metadata": {
      "needs_background": "light"
     },
     "output_type": "display_data"
    }
   ],
   "source": [
    "plot_attention(attention_weights, sentence)"
   ]
  },
  {
   "cell_type": "code",
   "execution_count": null,
   "id": "ef4394ec",
   "metadata": {},
   "outputs": [],
   "source": []
  }
 ],
 "metadata": {
  "kernelspec": {
   "display_name": "Python 3 (ipykernel)",
   "language": "python",
   "name": "python3"
  },
  "language_info": {
   "codemirror_mode": {
    "name": "ipython",
    "version": 3
   },
   "file_extension": ".py",
   "mimetype": "text/x-python",
   "name": "python",
   "nbconvert_exporter": "python",
   "pygments_lexer": "ipython3",
   "version": "3.9.11"
  }
 },
 "nbformat": 4,
 "nbformat_minor": 5
}
