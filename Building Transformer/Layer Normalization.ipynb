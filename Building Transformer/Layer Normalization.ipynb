{
 "cells": [
  {
   "attachments": {},
   "cell_type": "markdown",
   "id": "466ec292",
   "metadata": {},
   "source": [
    "# Layer Normalization & Residual Connections\n",
    "\n",
    "In this notebook we will take a look at Layer Normalization & other things.In this we will start with taking a tensor which will have parameters as :\n",
    "- B: The batch size\n",
    "- S: Number of input words \n",
    "- E: Input word embedding size"
   ]
  },
  {
   "cell_type": "code",
   "execution_count": 1,
   "id": "26b428d9",
   "metadata": {},
   "outputs": [
    {
     "data": {
      "text/plain": [
       "torch.Size([2, 1, 3])"
      ]
     },
     "execution_count": 1,
     "metadata": {},
     "output_type": "execute_result"
    }
   ],
   "source": [
    "import torch\n",
    "from torch import nn\n",
    "\n",
    "# Lets take some random inputs\n",
    "inputs = torch.Tensor([[[0.2, 0.1, 0.3], [0.5, 0.1, 0.1]]])\n",
    "B, S, E = inputs.size()\n",
    "inputs = inputs.reshape(S, B, E)\n",
    "inputs.size()"
   ]
  },
  {
   "attachments": {},
   "cell_type": "markdown",
   "id": "ef12e815",
   "metadata": {},
   "source": [
    "## Hyper Parameters\n",
    "\n",
    "The Layer Normalization has 2 learnable parameters which are $\\gamma$ & $\\beta$ . We will calculate them as the model trains , but for initializing purpose we take $\\gamma$ = matrix of ones & $\\beta$ = matrix of zeros. They are updated in backpropagation using gradient descent steps."
   ]
  },
  {
   "cell_type": "code",
   "execution_count": 2,
   "id": "741a0bd8",
   "metadata": {},
   "outputs": [
    {
     "data": {
      "text/plain": [
       "(torch.Size([1, 3]), torch.Size([1, 3]))"
      ]
     },
     "execution_count": 2,
     "metadata": {},
     "output_type": "execute_result"
    }
   ],
   "source": [
    "parameter_shape = inputs.size()[-2:]\n",
    "gamma = nn.Parameter(torch.ones(parameter_shape))\n",
    "beta =  nn.Parameter(torch.zeros(parameter_shape))\n",
    "\n",
    "gamma.size(), beta.size()     "
   ]
  },
  {
   "attachments": {},
   "cell_type": "markdown",
   "id": "6efbf1ae",
   "metadata": {},
   "source": [
    "Compute the dimensions for which we want to do Layer Normalization"
   ]
  },
  {
   "cell_type": "code",
   "execution_count": 3,
   "id": "506bd430",
   "metadata": {},
   "outputs": [
    {
     "data": {
      "text/plain": [
       "[-1, -2]"
      ]
     },
     "execution_count": 3,
     "metadata": {},
     "output_type": "execute_result"
    }
   ],
   "source": [
    "dims = [-(i + 1) for i in range(len(parameter_shape))]\n",
    "dims"
   ]
  },
  {
   "attachments": {},
   "cell_type": "markdown",
   "id": "bc8a21b8",
   "metadata": {},
   "source": [
    "Now we will take the mean across the batch dimension and the layer dimension"
   ]
  },
  {
   "cell_type": "code",
   "execution_count": 4,
   "id": "35e2f6a1",
   "metadata": {},
   "outputs": [
    {
     "name": "stdout",
     "output_type": "stream",
     "text": [
      "The size of this mean matrix is : torch.Size([2, 1, 1])\n",
      "The mean is : tensor([[[0.2000]],\n",
      "\n",
      "        [[0.2333]]])\n"
     ]
    }
   ],
   "source": [
    "mean = inputs.mean(dim=dims, keepdim=True)\n",
    "print(f\"The size of this mean matrix is : {mean.size()}\")\n",
    "print(f\"The mean is : {mean}\")"
   ]
  },
  {
   "attachments": {},
   "cell_type": "markdown",
   "id": "59baf565",
   "metadata": {},
   "source": [
    "Calculate the Standard Deviation. We will be adding a small epsilon value here, this is to remove the posibility where the standard deviation is going to be zero. As the STD is the denominator of the equation it should not be zero."
   ]
  },
  {
   "cell_type": "code",
   "execution_count": 5,
   "id": "defafaed",
   "metadata": {},
   "outputs": [
    {
     "data": {
      "text/plain": [
       "'The Standard Deviation is : tensor([[[0.0817]],\\n\\n        [[0.1886]]])'"
      ]
     },
     "execution_count": 5,
     "metadata": {},
     "output_type": "execute_result"
    }
   ],
   "source": [
    "var = ((inputs - mean) ** 2).mean(dim=dims, keepdim=True)\n",
    "epsilon = 1e-5\n",
    "std = (var + epsilon).sqrt()\n",
    "(f\"The Standard Deviation is : {std}\")"
   ]
  },
  {
   "attachments": {},
   "cell_type": "markdown",
   "id": "8f221914",
   "metadata": {},
   "source": [
    "Input the numerator & denominator into the formula of Y and get the resultant matrix"
   ]
  },
  {
   "cell_type": "code",
   "execution_count": 6,
   "id": "6a9f5bb5",
   "metadata": {},
   "outputs": [
    {
     "data": {
      "text/plain": [
       "tensor([[[ 0.0000, -1.2238,  1.2238]],\n",
       "\n",
       "        [[ 1.4140, -0.7070, -0.7070]]])"
      ]
     },
     "execution_count": 6,
     "metadata": {},
     "output_type": "execute_result"
    }
   ],
   "source": [
    "y = (inputs - mean) / std\n",
    "y"
   ]
  },
  {
   "attachments": {},
   "cell_type": "markdown",
   "id": "41151c3d",
   "metadata": {},
   "source": [
    "Add learnable parameters"
   ]
  },
  {
   "cell_type": "code",
   "execution_count": 7,
   "id": "d1d06a52",
   "metadata": {},
   "outputs": [
    {
     "data": {
      "text/plain": [
       "tensor([[[ 0.0000, -1.2238,  1.2238]],\n",
       "\n",
       "        [[ 1.4140, -0.7070, -0.7070]]], grad_fn=<AddBackward0>)"
      ]
     },
     "execution_count": 7,
     "metadata": {},
     "output_type": "execute_result"
    }
   ],
   "source": [
    "out = gamma * y + beta\n",
    "out"
   ]
  },
  {
   "attachments": {},
   "cell_type": "markdown",
   "id": "e029447a",
   "metadata": {},
   "source": [
    "# Layer Normalization Class "
   ]
  },
  {
   "cell_type": "code",
   "execution_count": 8,
   "id": "3a247673",
   "metadata": {},
   "outputs": [],
   "source": [
    "import torch\n",
    "from torch import nn\n",
    "\n",
    "class LayerNormalization():\n",
    "    #-----------Constrctor-----------#\n",
    "    def __init__(self,parameters_shape,eps=1e-5):\n",
    "        self.parameters_shape=parameters_shape\n",
    "        self.eps=eps\n",
    "        self.gamma = nn.Parameter(torch.ones(parameters_shape))\n",
    "        self.beta =  nn.Parameter(torch.zeros(parameters_shape))\n",
    "\n",
    "    def forward(self,input):\n",
    "        dims = [-(i+1) for i in range(len(self.parameters_shape))]           #----Calculate Dims\n",
    "        mean = inputs.mean(dim=dims, keepdim=True)                          #----Calculate the mean for (dims)\n",
    "        print(f\"Mean \\n ({mean.size()}): \\n {mean}\")\n",
    "        var = ((inputs - mean) ** 2).mean(dim=dims, keepdim=True)           #----Calculate the var for (dims)\n",
    "        std = (var + self.eps).sqrt()                                       #----Calculate the std for (dims)\n",
    "        print(f\"Standard Deviation \\n ({std.size()}): \\n {std}\")\n",
    "        y = (inputs - mean) / std                                           #----Calculate the Layer Normalization\n",
    "        print(f\"y \\n ({y.size()}) = \\n {y}\")                                \n",
    "        out = self.gamma * y  + self.beta                                   #----Add the learnable parameters for Normalization\n",
    "        print(f\"out \\n ({out.size()}) = \\n {out}\")\n",
    "        return out"
   ]
  },
  {
   "attachments": {},
   "cell_type": "markdown",
   "id": "ab0f256d",
   "metadata": {},
   "source": [
    "### Example : Lets have a example\n",
    "\n",
    "----------------------Sentences----------------------\n",
    "1. The sun sets behind mountains.\n",
    "2. He sings sweet songs every night.\n",
    "3. We ride bikes through the park.\n",
    "4. She reads books by the river.\n",
    "5. They eat lunch in the park.\n",
    "6. I dance under the bright lights.\n",
    "7. The wind blows through the trees.\n",
    "8. He plays guitar on the beach.\n",
    "9. She writes poems about love.\n",
    "\n",
    "---------------------- Calculations ----------------------\n",
    "\n",
    "Maximum length of sentence is `5` , embdeeing dims are `8` assumption , and we will keep the batch size `3` "
   ]
  },
  {
   "cell_type": "code",
   "execution_count": 9,
   "id": "26c73f4d",
   "metadata": {},
   "outputs": [
    {
     "name": "stdout",
     "output_type": "stream",
     "text": [
      "input \n",
      " (torch.Size([5, 3, 8])) = \n",
      " tensor([[[ 0.4467, -1.3007, -0.0920, -1.2152,  0.3026, -0.2864, -1.5821,\n",
      "          -0.0724],\n",
      "         [-0.7923,  0.0367,  0.8204,  0.7569,  0.8571,  0.5695,  0.5892,\n",
      "          -1.6977],\n",
      "         [ 1.1445, -0.0371, -0.3484, -1.1498, -0.2298,  0.0535, -0.1654,\n",
      "          -0.3413]],\n",
      "\n",
      "        [[-0.1922, -0.5485, -0.3247, -0.2460,  0.4074,  1.9384,  0.2171,\n",
      "          -1.8889],\n",
      "         [ 0.8976, -0.0413,  0.6761, -0.9226,  0.3660,  0.5053,  0.1961,\n",
      "           0.9786],\n",
      "         [-1.4371, -0.3621,  1.8867, -0.0622, -0.3469,  0.6589, -1.1966,\n",
      "          -1.2185]],\n",
      "\n",
      "        [[ 0.1490, -0.2083, -0.2071, -1.5242,  1.3496, -1.3662,  0.5302,\n",
      "          -0.3606],\n",
      "         [-0.8799,  0.9166, -0.2566, -0.3860,  0.0735, -1.9301,  0.0702,\n",
      "           0.0742],\n",
      "         [-0.2577,  0.0575,  1.2190, -0.1572,  0.9279,  0.9861, -0.1931,\n",
      "          -2.2979]],\n",
      "\n",
      "        [[ 0.9427, -0.1144,  0.8744,  1.3006,  0.7610, -0.2281,  0.5894,\n",
      "           0.2228],\n",
      "         [ 2.1817, -2.0896,  1.1984, -0.3392,  1.9920, -0.9134,  0.2872,\n",
      "           0.5853],\n",
      "         [ 0.4366,  0.4235, -1.8829, -1.2722,  0.9662,  1.3148,  1.7846,\n",
      "           0.2644]],\n",
      "\n",
      "        [[ 0.5888, -1.2755, -1.7851, -0.6790, -0.1210,  0.2833, -1.6988,\n",
      "           0.3539],\n",
      "         [-0.6723,  0.9296, -0.8498, -1.3147, -0.9820, -1.1449,  0.7287,\n",
      "          -0.8831],\n",
      "         [-1.3095, -0.7584, -2.2479, -0.0108,  0.1287,  0.5719,  0.0653,\n",
      "           0.3352]]])\n"
     ]
    }
   ],
   "source": [
    "batch_size = 3\n",
    "sentence_length = 5\n",
    "embedding_dim = 8\n",
    "\n",
    "inputs = torch.randn(sentence_length, batch_size, embedding_dim)\n",
    "print(f\"input \\n ({inputs.size()}) = \\n {inputs}\")"
   ]
  },
  {
   "cell_type": "code",
   "execution_count": 10,
   "id": "fc4cc873",
   "metadata": {},
   "outputs": [
    {
     "name": "stdout",
     "output_type": "stream",
     "text": [
      "Mean \n",
      " (torch.Size([5, 3, 1])): \n",
      " tensor([[[-0.4749],\n",
      "         [ 0.1425],\n",
      "         [-0.1342]],\n",
      "\n",
      "        [[-0.0797],\n",
      "         [ 0.3320],\n",
      "         [-0.2597]],\n",
      "\n",
      "        [[-0.2047],\n",
      "         [-0.2898],\n",
      "         [ 0.0356]],\n",
      "\n",
      "        [[ 0.5435],\n",
      "         [ 0.3628],\n",
      "         [ 0.2544]],\n",
      "\n",
      "        [[-0.5417],\n",
      "         [-0.5236],\n",
      "         [-0.4032]]])\n",
      "Standard Deviation \n",
      " (torch.Size([5, 3, 1])): \n",
      " tensor([[[0.7292],\n",
      "         [0.8661],\n",
      "         [0.5927]],\n",
      "\n",
      "        [[0.9995],\n",
      "         [0.5722],\n",
      "         [1.0423]],\n",
      "\n",
      "        [[0.8800],\n",
      "         [0.7825],\n",
      "         [1.0441]],\n",
      "\n",
      "        [[0.5028],\n",
      "         [1.3625],\n",
      "         [1.1690]],\n",
      "\n",
      "        [[0.8930],\n",
      "         [0.8031],\n",
      "         [0.9016]]])\n",
      "y \n",
      " (torch.Size([5, 3, 8])) = \n",
      " tensor([[[ 1.2639, -1.1324,  0.5252, -1.0152,  1.0662,  0.2586, -1.5183,\n",
      "           0.5520],\n",
      "         [-1.0793, -0.1222,  0.7828,  0.7094,  0.8252,  0.4931,  0.5158,\n",
      "          -2.1246],\n",
      "         [ 2.1576,  0.1638, -0.3613, -1.7135, -0.1612,  0.3167, -0.0527,\n",
      "          -0.3495]],\n",
      "\n",
      "        [[-0.1125, -0.4691, -0.2452, -0.1664,  0.4874,  2.0191,  0.2970,\n",
      "          -1.8102],\n",
      "         [ 0.9885, -0.6524,  0.6014, -2.1924,  0.0595,  0.3029, -0.2375,\n",
      "           1.1300],\n",
      "         [-1.1296, -0.0982,  2.0593,  0.1895, -0.0836,  0.8814, -0.8989,\n",
      "          -0.9199]],\n",
      "\n",
      "        [[ 0.4020, -0.0041, -0.0027, -1.4993,  1.7662, -1.3199,  0.8351,\n",
      "          -0.1772],\n",
      "         [-0.7542,  1.5416,  0.0424, -0.1230,  0.4642, -2.0962,  0.4601,\n",
      "           0.4651],\n",
      "         [-0.2809,  0.0210,  1.1334, -0.1846,  0.8546,  0.9104, -0.2190,\n",
      "          -2.2349]],\n",
      "\n",
      "        [[ 0.7938, -1.3085,  0.6580,  1.5056,  0.4326, -1.5347,  0.0911,\n",
      "          -0.6379],\n",
      "         [ 1.3349, -1.7999,  0.6133, -0.5152,  1.1957, -0.9366, -0.0555,\n",
      "           0.1633],\n",
      "         [ 0.1559,  0.1447, -1.8282, -1.3059,  0.6089,  0.9071,  1.3089,\n",
      "           0.0086]],\n",
      "\n",
      "        [[ 1.2658, -0.8217, -1.3924, -0.1538,  0.4711,  0.9238, -1.2957,\n",
      "           1.0029],\n",
      "         [-0.1851,  1.8094, -0.4062, -0.9851, -0.5708, -0.7737,  1.5593,\n",
      "          -0.4477],\n",
      "         [-1.0053, -0.3940, -2.0461,  0.4352,  0.5900,  1.0815,  0.5196,\n",
      "           0.8190]]])\n",
      "out \n",
      " (torch.Size([5, 3, 8])) = \n",
      " tensor([[[ 1.2639, -1.1324,  0.5252, -1.0152,  1.0662,  0.2586, -1.5183,\n",
      "           0.5520],\n",
      "         [-1.0793, -0.1222,  0.7828,  0.7094,  0.8252,  0.4931,  0.5158,\n",
      "          -2.1246],\n",
      "         [ 2.1576,  0.1638, -0.3613, -1.7135, -0.1612,  0.3167, -0.0527,\n",
      "          -0.3495]],\n",
      "\n",
      "        [[-0.1125, -0.4691, -0.2452, -0.1664,  0.4874,  2.0191,  0.2970,\n",
      "          -1.8102],\n",
      "         [ 0.9885, -0.6524,  0.6014, -2.1924,  0.0595,  0.3029, -0.2375,\n",
      "           1.1300],\n",
      "         [-1.1296, -0.0982,  2.0593,  0.1895, -0.0836,  0.8814, -0.8989,\n",
      "          -0.9199]],\n",
      "\n",
      "        [[ 0.4020, -0.0041, -0.0027, -1.4993,  1.7662, -1.3199,  0.8351,\n",
      "          -0.1772],\n",
      "         [-0.7542,  1.5416,  0.0424, -0.1230,  0.4642, -2.0962,  0.4601,\n",
      "           0.4651],\n",
      "         [-0.2809,  0.0210,  1.1334, -0.1846,  0.8546,  0.9104, -0.2190,\n",
      "          -2.2349]],\n",
      "\n",
      "        [[ 0.7938, -1.3085,  0.6580,  1.5056,  0.4326, -1.5347,  0.0911,\n",
      "          -0.6379],\n",
      "         [ 1.3349, -1.7999,  0.6133, -0.5152,  1.1957, -0.9366, -0.0555,\n",
      "           0.1633],\n",
      "         [ 0.1559,  0.1447, -1.8282, -1.3059,  0.6089,  0.9071,  1.3089,\n",
      "           0.0086]],\n",
      "\n",
      "        [[ 1.2658, -0.8217, -1.3924, -0.1538,  0.4711,  0.9238, -1.2957,\n",
      "           1.0029],\n",
      "         [-0.1851,  1.8094, -0.4062, -0.9851, -0.5708, -0.7737,  1.5593,\n",
      "          -0.4477],\n",
      "         [-1.0053, -0.3940, -2.0461,  0.4352,  0.5900,  1.0815,  0.5196,\n",
      "           0.8190]]], grad_fn=<AddBackward0>)\n"
     ]
    }
   ],
   "source": [
    "layer_norm = LayerNormalization(inputs.size()[-1:])\n",
    "\n",
    "out = layer_norm.forward(inputs)"
   ]
  },
  {
   "cell_type": "code",
   "execution_count": 11,
   "id": "a77e255f",
   "metadata": {},
   "outputs": [
    {
     "data": {
      "text/plain": [
       "(tensor(-1.4901e-08, grad_fn=<MeanBackward0>),\n",
       " tensor(1.0215, grad_fn=<StdBackward0>))"
      ]
     },
     "execution_count": 11,
     "metadata": {},
     "output_type": "execute_result"
    }
   ],
   "source": [
    "out[0].mean(), out[0].std()"
   ]
  },
  {
   "cell_type": "code",
   "execution_count": null,
   "id": "c92dd452",
   "metadata": {},
   "outputs": [],
   "source": []
  }
 ],
 "metadata": {
  "kernelspec": {
   "display_name": "Python 3 (ipykernel)",
   "language": "python",
   "name": "python3"
  },
  "language_info": {
   "codemirror_mode": {
    "name": "ipython",
    "version": 3
   },
   "file_extension": ".py",
   "mimetype": "text/x-python",
   "name": "python",
   "nbconvert_exporter": "python",
   "pygments_lexer": "ipython3",
   "version": "3.9.11"
  }
 },
 "nbformat": 4,
 "nbformat_minor": 5
}
